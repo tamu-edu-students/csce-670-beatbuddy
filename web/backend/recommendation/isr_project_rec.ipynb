{
  "cells": [
    {
      "cell_type": "code",
      "source": [
        "# This code uses https://www.kaggle.com/code/electrichands/spotify-similarity-based/notebook, licensed under Apache License 2.0."
      ],
      "metadata": {
        "id": "P42lWUS7RYdW"
      },
      "id": "P42lWUS7RYdW",
      "execution_count": null,
      "outputs": []
    },
    {
      "cell_type": "code",
      "execution_count": null,
      "id": "1a8bc40d",
      "metadata": {
        "_cell_guid": "b1076dfc-b9ad-4769-8c92-a6c4dae69d19",
        "_uuid": "8f2839f25d086af736a60e9eeb907d3b93b6e0e5",
        "execution": {
          "iopub.execute_input": "2024-03-26T17:01:21.195975Z",
          "iopub.status.busy": "2024-03-26T17:01:21.195185Z",
          "iopub.status.idle": "2024-03-26T17:01:22.346143Z",
          "shell.execute_reply": "2024-03-26T17:01:22.344871Z"
        },
        "papermill": {
          "duration": 1.166894,
          "end_time": "2024-03-26T17:01:22.348989",
          "exception": false,
          "start_time": "2024-03-26T17:01:21.182095",
          "status": "completed"
        },
        "tags": [],
        "id": "1a8bc40d"
      },
      "outputs": [],
      "source": [
        "# This Python 3 environment comes with many helpful analytics libraries installed\n",
        "# It is defined by the kaggle/python Docker image: https://github.com/kaggle/docker-python\n",
        "# For example, here's several helpful packages to load\n",
        "\n",
        "import numpy as np # linear algebra\n",
        "import pandas as pd # data processing, CSV file I/O (e.g. pd.read_csv)\n",
        "\n",
        "# Input data files are available in the read-only \"../input/\" directory\n",
        "# For example, running this (by clicking run or pressing Shift+Enter) will list all files under the input directory\n",
        "\n",
        "import os\n",
        "for dirname, _, filenames in os.walk('/kaggle/input'):\n",
        "    for filename in filenames:\n",
        "        print(os.path.join(dirname, filename))\n",
        "\n",
        "# You can write up to 20GB to the current directory (/kaggle/working/) that gets preserved as output when you create a version using \"Save & Run All\"\n",
        "# You can also write temporary files to /kaggle/temp/, but they won't be saved outside of the current session"
      ]
    },
    {
      "cell_type": "markdown",
      "id": "26d85e58",
      "metadata": {
        "papermill": {
          "duration": 0.009921,
          "end_time": "2024-03-26T17:01:22.369359",
          "exception": false,
          "start_time": "2024-03-26T17:01:22.359438",
          "status": "completed"
        },
        "tags": [],
        "id": "26d85e58"
      },
      "source": [
        "## Data Loading"
      ]
    },
    {
      "cell_type": "code",
      "execution_count": null,
      "id": "f84ffffa",
      "metadata": {
        "execution": {
          "iopub.execute_input": "2024-03-26T17:01:22.395329Z",
          "iopub.status.busy": "2024-03-26T17:01:22.394065Z",
          "iopub.status.idle": "2024-03-26T17:01:23.389592Z",
          "shell.execute_reply": "2024-03-26T17:01:23.388202Z"
        },
        "papermill": {
          "duration": 1.011914,
          "end_time": "2024-03-26T17:01:23.392632",
          "exception": false,
          "start_time": "2024-03-26T17:01:22.380718",
          "status": "completed"
        },
        "tags": [],
        "id": "f84ffffa"
      },
      "outputs": [],
      "source": [
        "import pandas\n",
        "\n",
        "songs_df = pd.read_csv('/content/songs_db.csv')"
      ]
    },
    {
      "cell_type": "code",
      "source": [
        "ratings_df = pd.read_excel('/content/ratings.xlsx')"
      ],
      "metadata": {
        "id": "4deAwU-Xhq8s"
      },
      "id": "4deAwU-Xhq8s",
      "execution_count": null,
      "outputs": []
    },
    {
      "cell_type": "code",
      "execution_count": null,
      "id": "06169a5e",
      "metadata": {
        "execution": {
          "iopub.execute_input": "2024-03-26T17:01:23.415708Z",
          "iopub.status.busy": "2024-03-26T17:01:23.415266Z",
          "iopub.status.idle": "2024-03-26T17:01:23.450351Z",
          "shell.execute_reply": "2024-03-26T17:01:23.449040Z"
        },
        "papermill": {
          "duration": 0.050133,
          "end_time": "2024-03-26T17:01:23.453099",
          "exception": false,
          "start_time": "2024-03-26T17:01:23.402966",
          "status": "completed"
        },
        "tags": [],
        "colab": {
          "base_uri": "https://localhost:8080/",
          "height": 394
        },
        "id": "06169a5e",
        "outputId": "bffe85a0-908b-4104-a253-6917b0fae7b8"
      },
      "outputs": [
        {
          "output_type": "execute_result",
          "data": {
            "text/plain": [
              "   SongID                track_id                  artists  \\\n",
              "0       0  3nqQXoyQOWXiESFLlDF1hG     Sam Smith;Kim Petras   \n",
              "1       1  2tTmW7RDtMQtBk7m2rYeSw         Bizarrap;Quevedo   \n",
              "2       2  4uUG5RXrOk84mYEfFvj3cK  David Guetta;Bebe Rexha   \n",
              "3       3  5ww2BF9slyYgNOk37BlC4u            Manuel Turizo   \n",
              "4       4  1IHWl5LamUGEuP4ozKQSXZ                Bad Bunny   \n",
              "\n",
              "                              album_name  \\\n",
              "0              Unholy (feat. Kim Petras)   \n",
              "1  Quevedo: Bzrp Music Sessions, Vol. 52   \n",
              "2                        I'm Good (Blue)   \n",
              "3                             La Bachata   \n",
              "4                       Un Verano Sin Ti   \n",
              "\n",
              "                              track_name  popularity  duration_ms  explicit  \\\n",
              "0              Unholy (feat. Kim Petras)         100       156943     False   \n",
              "1  Quevedo: Bzrp Music Sessions, Vol. 52          99       198937     False   \n",
              "2                        I'm Good (Blue)          98       175238      True   \n",
              "3                             La Bachata          98       162637     False   \n",
              "4                       Tití Me Preguntó          97       243716     False   \n",
              "\n",
              "   danceability  energy  ...  mode  speechiness  acousticness  \\\n",
              "0         0.714   0.472  ...     1       0.0864       0.01300   \n",
              "1         0.621   0.782  ...     1       0.0440       0.01250   \n",
              "2         0.561   0.965  ...     0       0.0343       0.00383   \n",
              "3         0.835   0.679  ...     0       0.0364       0.58300   \n",
              "4         0.650   0.715  ...     0       0.2530       0.09930   \n",
              "\n",
              "   instrumentalness  liveness  valence    tempo  time_signature  track_genre  \\\n",
              "0          0.000005     0.266    0.238  131.121               4        dance   \n",
              "1          0.033000     0.230    0.550  128.033               4      hip-hop   \n",
              "2          0.000007     0.371    0.304  128.040               4          pop   \n",
              "3          0.000002     0.218    0.850  124.980               4    reggaeton   \n",
              "4          0.000291     0.126    0.187  106.672               4       reggae   \n",
              "\n",
              "                                         YouTube URL  \n",
              "0  https://www.youtube.com/watch?v=Uq9gPaIzbe8&pp...  \n",
              "1  https://www.youtube.com/watch?v=A_g3lMcWVy0&pp...  \n",
              "2  https://www.youtube.com/watch?v=90RLzVUuXe4&pp...  \n",
              "3  https://www.youtube.com/watch?v=A7m8lQOMz1A&pp...  \n",
              "4  https://www.youtube.com/watch?v=Cr8K88UcO0s&pp...  \n",
              "\n",
              "[5 rows x 22 columns]"
            ],
            "text/html": [
              "\n",
              "  <div id=\"df-e4b33054-a618-4cf4-98a4-4e4eab0b487d\" class=\"colab-df-container\">\n",
              "    <div>\n",
              "<style scoped>\n",
              "    .dataframe tbody tr th:only-of-type {\n",
              "        vertical-align: middle;\n",
              "    }\n",
              "\n",
              "    .dataframe tbody tr th {\n",
              "        vertical-align: top;\n",
              "    }\n",
              "\n",
              "    .dataframe thead th {\n",
              "        text-align: right;\n",
              "    }\n",
              "</style>\n",
              "<table border=\"1\" class=\"dataframe\">\n",
              "  <thead>\n",
              "    <tr style=\"text-align: right;\">\n",
              "      <th></th>\n",
              "      <th>SongID</th>\n",
              "      <th>track_id</th>\n",
              "      <th>artists</th>\n",
              "      <th>album_name</th>\n",
              "      <th>track_name</th>\n",
              "      <th>popularity</th>\n",
              "      <th>duration_ms</th>\n",
              "      <th>explicit</th>\n",
              "      <th>danceability</th>\n",
              "      <th>energy</th>\n",
              "      <th>...</th>\n",
              "      <th>mode</th>\n",
              "      <th>speechiness</th>\n",
              "      <th>acousticness</th>\n",
              "      <th>instrumentalness</th>\n",
              "      <th>liveness</th>\n",
              "      <th>valence</th>\n",
              "      <th>tempo</th>\n",
              "      <th>time_signature</th>\n",
              "      <th>track_genre</th>\n",
              "      <th>YouTube URL</th>\n",
              "    </tr>\n",
              "  </thead>\n",
              "  <tbody>\n",
              "    <tr>\n",
              "      <th>0</th>\n",
              "      <td>0</td>\n",
              "      <td>3nqQXoyQOWXiESFLlDF1hG</td>\n",
              "      <td>Sam Smith;Kim Petras</td>\n",
              "      <td>Unholy (feat. Kim Petras)</td>\n",
              "      <td>Unholy (feat. Kim Petras)</td>\n",
              "      <td>100</td>\n",
              "      <td>156943</td>\n",
              "      <td>False</td>\n",
              "      <td>0.714</td>\n",
              "      <td>0.472</td>\n",
              "      <td>...</td>\n",
              "      <td>1</td>\n",
              "      <td>0.0864</td>\n",
              "      <td>0.01300</td>\n",
              "      <td>0.000005</td>\n",
              "      <td>0.266</td>\n",
              "      <td>0.238</td>\n",
              "      <td>131.121</td>\n",
              "      <td>4</td>\n",
              "      <td>dance</td>\n",
              "      <td>https://www.youtube.com/watch?v=Uq9gPaIzbe8&amp;pp...</td>\n",
              "    </tr>\n",
              "    <tr>\n",
              "      <th>1</th>\n",
              "      <td>1</td>\n",
              "      <td>2tTmW7RDtMQtBk7m2rYeSw</td>\n",
              "      <td>Bizarrap;Quevedo</td>\n",
              "      <td>Quevedo: Bzrp Music Sessions, Vol. 52</td>\n",
              "      <td>Quevedo: Bzrp Music Sessions, Vol. 52</td>\n",
              "      <td>99</td>\n",
              "      <td>198937</td>\n",
              "      <td>False</td>\n",
              "      <td>0.621</td>\n",
              "      <td>0.782</td>\n",
              "      <td>...</td>\n",
              "      <td>1</td>\n",
              "      <td>0.0440</td>\n",
              "      <td>0.01250</td>\n",
              "      <td>0.033000</td>\n",
              "      <td>0.230</td>\n",
              "      <td>0.550</td>\n",
              "      <td>128.033</td>\n",
              "      <td>4</td>\n",
              "      <td>hip-hop</td>\n",
              "      <td>https://www.youtube.com/watch?v=A_g3lMcWVy0&amp;pp...</td>\n",
              "    </tr>\n",
              "    <tr>\n",
              "      <th>2</th>\n",
              "      <td>2</td>\n",
              "      <td>4uUG5RXrOk84mYEfFvj3cK</td>\n",
              "      <td>David Guetta;Bebe Rexha</td>\n",
              "      <td>I'm Good (Blue)</td>\n",
              "      <td>I'm Good (Blue)</td>\n",
              "      <td>98</td>\n",
              "      <td>175238</td>\n",
              "      <td>True</td>\n",
              "      <td>0.561</td>\n",
              "      <td>0.965</td>\n",
              "      <td>...</td>\n",
              "      <td>0</td>\n",
              "      <td>0.0343</td>\n",
              "      <td>0.00383</td>\n",
              "      <td>0.000007</td>\n",
              "      <td>0.371</td>\n",
              "      <td>0.304</td>\n",
              "      <td>128.040</td>\n",
              "      <td>4</td>\n",
              "      <td>pop</td>\n",
              "      <td>https://www.youtube.com/watch?v=90RLzVUuXe4&amp;pp...</td>\n",
              "    </tr>\n",
              "    <tr>\n",
              "      <th>3</th>\n",
              "      <td>3</td>\n",
              "      <td>5ww2BF9slyYgNOk37BlC4u</td>\n",
              "      <td>Manuel Turizo</td>\n",
              "      <td>La Bachata</td>\n",
              "      <td>La Bachata</td>\n",
              "      <td>98</td>\n",
              "      <td>162637</td>\n",
              "      <td>False</td>\n",
              "      <td>0.835</td>\n",
              "      <td>0.679</td>\n",
              "      <td>...</td>\n",
              "      <td>0</td>\n",
              "      <td>0.0364</td>\n",
              "      <td>0.58300</td>\n",
              "      <td>0.000002</td>\n",
              "      <td>0.218</td>\n",
              "      <td>0.850</td>\n",
              "      <td>124.980</td>\n",
              "      <td>4</td>\n",
              "      <td>reggaeton</td>\n",
              "      <td>https://www.youtube.com/watch?v=A7m8lQOMz1A&amp;pp...</td>\n",
              "    </tr>\n",
              "    <tr>\n",
              "      <th>4</th>\n",
              "      <td>4</td>\n",
              "      <td>1IHWl5LamUGEuP4ozKQSXZ</td>\n",
              "      <td>Bad Bunny</td>\n",
              "      <td>Un Verano Sin Ti</td>\n",
              "      <td>Tití Me Preguntó</td>\n",
              "      <td>97</td>\n",
              "      <td>243716</td>\n",
              "      <td>False</td>\n",
              "      <td>0.650</td>\n",
              "      <td>0.715</td>\n",
              "      <td>...</td>\n",
              "      <td>0</td>\n",
              "      <td>0.2530</td>\n",
              "      <td>0.09930</td>\n",
              "      <td>0.000291</td>\n",
              "      <td>0.126</td>\n",
              "      <td>0.187</td>\n",
              "      <td>106.672</td>\n",
              "      <td>4</td>\n",
              "      <td>reggae</td>\n",
              "      <td>https://www.youtube.com/watch?v=Cr8K88UcO0s&amp;pp...</td>\n",
              "    </tr>\n",
              "  </tbody>\n",
              "</table>\n",
              "<p>5 rows × 22 columns</p>\n",
              "</div>\n",
              "    <div class=\"colab-df-buttons\">\n",
              "\n",
              "  <div class=\"colab-df-container\">\n",
              "    <button class=\"colab-df-convert\" onclick=\"convertToInteractive('df-e4b33054-a618-4cf4-98a4-4e4eab0b487d')\"\n",
              "            title=\"Convert this dataframe to an interactive table.\"\n",
              "            style=\"display:none;\">\n",
              "\n",
              "  <svg xmlns=\"http://www.w3.org/2000/svg\" height=\"24px\" viewBox=\"0 -960 960 960\">\n",
              "    <path d=\"M120-120v-720h720v720H120Zm60-500h600v-160H180v160Zm220 220h160v-160H400v160Zm0 220h160v-160H400v160ZM180-400h160v-160H180v160Zm440 0h160v-160H620v160ZM180-180h160v-160H180v160Zm440 0h160v-160H620v160Z\"/>\n",
              "  </svg>\n",
              "    </button>\n",
              "\n",
              "  <style>\n",
              "    .colab-df-container {\n",
              "      display:flex;\n",
              "      gap: 12px;\n",
              "    }\n",
              "\n",
              "    .colab-df-convert {\n",
              "      background-color: #E8F0FE;\n",
              "      border: none;\n",
              "      border-radius: 50%;\n",
              "      cursor: pointer;\n",
              "      display: none;\n",
              "      fill: #1967D2;\n",
              "      height: 32px;\n",
              "      padding: 0 0 0 0;\n",
              "      width: 32px;\n",
              "    }\n",
              "\n",
              "    .colab-df-convert:hover {\n",
              "      background-color: #E2EBFA;\n",
              "      box-shadow: 0px 1px 2px rgba(60, 64, 67, 0.3), 0px 1px 3px 1px rgba(60, 64, 67, 0.15);\n",
              "      fill: #174EA6;\n",
              "    }\n",
              "\n",
              "    .colab-df-buttons div {\n",
              "      margin-bottom: 4px;\n",
              "    }\n",
              "\n",
              "    [theme=dark] .colab-df-convert {\n",
              "      background-color: #3B4455;\n",
              "      fill: #D2E3FC;\n",
              "    }\n",
              "\n",
              "    [theme=dark] .colab-df-convert:hover {\n",
              "      background-color: #434B5C;\n",
              "      box-shadow: 0px 1px 3px 1px rgba(0, 0, 0, 0.15);\n",
              "      filter: drop-shadow(0px 1px 2px rgba(0, 0, 0, 0.3));\n",
              "      fill: #FFFFFF;\n",
              "    }\n",
              "  </style>\n",
              "\n",
              "    <script>\n",
              "      const buttonEl =\n",
              "        document.querySelector('#df-e4b33054-a618-4cf4-98a4-4e4eab0b487d button.colab-df-convert');\n",
              "      buttonEl.style.display =\n",
              "        google.colab.kernel.accessAllowed ? 'block' : 'none';\n",
              "\n",
              "      async function convertToInteractive(key) {\n",
              "        const element = document.querySelector('#df-e4b33054-a618-4cf4-98a4-4e4eab0b487d');\n",
              "        const dataTable =\n",
              "          await google.colab.kernel.invokeFunction('convertToInteractive',\n",
              "                                                    [key], {});\n",
              "        if (!dataTable) return;\n",
              "\n",
              "        const docLinkHtml = 'Like what you see? Visit the ' +\n",
              "          '<a target=\"_blank\" href=https://colab.research.google.com/notebooks/data_table.ipynb>data table notebook</a>'\n",
              "          + ' to learn more about interactive tables.';\n",
              "        element.innerHTML = '';\n",
              "        dataTable['output_type'] = 'display_data';\n",
              "        await google.colab.output.renderOutput(dataTable, element);\n",
              "        const docLink = document.createElement('div');\n",
              "        docLink.innerHTML = docLinkHtml;\n",
              "        element.appendChild(docLink);\n",
              "      }\n",
              "    </script>\n",
              "  </div>\n",
              "\n",
              "\n",
              "<div id=\"df-48e94386-6b08-487d-b2e9-0e51aca822ae\">\n",
              "  <button class=\"colab-df-quickchart\" onclick=\"quickchart('df-48e94386-6b08-487d-b2e9-0e51aca822ae')\"\n",
              "            title=\"Suggest charts\"\n",
              "            style=\"display:none;\">\n",
              "\n",
              "<svg xmlns=\"http://www.w3.org/2000/svg\" height=\"24px\"viewBox=\"0 0 24 24\"\n",
              "     width=\"24px\">\n",
              "    <g>\n",
              "        <path d=\"M19 3H5c-1.1 0-2 .9-2 2v14c0 1.1.9 2 2 2h14c1.1 0 2-.9 2-2V5c0-1.1-.9-2-2-2zM9 17H7v-7h2v7zm4 0h-2V7h2v10zm4 0h-2v-4h2v4z\"/>\n",
              "    </g>\n",
              "</svg>\n",
              "  </button>\n",
              "\n",
              "<style>\n",
              "  .colab-df-quickchart {\n",
              "      --bg-color: #E8F0FE;\n",
              "      --fill-color: #1967D2;\n",
              "      --hover-bg-color: #E2EBFA;\n",
              "      --hover-fill-color: #174EA6;\n",
              "      --disabled-fill-color: #AAA;\n",
              "      --disabled-bg-color: #DDD;\n",
              "  }\n",
              "\n",
              "  [theme=dark] .colab-df-quickchart {\n",
              "      --bg-color: #3B4455;\n",
              "      --fill-color: #D2E3FC;\n",
              "      --hover-bg-color: #434B5C;\n",
              "      --hover-fill-color: #FFFFFF;\n",
              "      --disabled-bg-color: #3B4455;\n",
              "      --disabled-fill-color: #666;\n",
              "  }\n",
              "\n",
              "  .colab-df-quickchart {\n",
              "    background-color: var(--bg-color);\n",
              "    border: none;\n",
              "    border-radius: 50%;\n",
              "    cursor: pointer;\n",
              "    display: none;\n",
              "    fill: var(--fill-color);\n",
              "    height: 32px;\n",
              "    padding: 0;\n",
              "    width: 32px;\n",
              "  }\n",
              "\n",
              "  .colab-df-quickchart:hover {\n",
              "    background-color: var(--hover-bg-color);\n",
              "    box-shadow: 0 1px 2px rgba(60, 64, 67, 0.3), 0 1px 3px 1px rgba(60, 64, 67, 0.15);\n",
              "    fill: var(--button-hover-fill-color);\n",
              "  }\n",
              "\n",
              "  .colab-df-quickchart-complete:disabled,\n",
              "  .colab-df-quickchart-complete:disabled:hover {\n",
              "    background-color: var(--disabled-bg-color);\n",
              "    fill: var(--disabled-fill-color);\n",
              "    box-shadow: none;\n",
              "  }\n",
              "\n",
              "  .colab-df-spinner {\n",
              "    border: 2px solid var(--fill-color);\n",
              "    border-color: transparent;\n",
              "    border-bottom-color: var(--fill-color);\n",
              "    animation:\n",
              "      spin 1s steps(1) infinite;\n",
              "  }\n",
              "\n",
              "  @keyframes spin {\n",
              "    0% {\n",
              "      border-color: transparent;\n",
              "      border-bottom-color: var(--fill-color);\n",
              "      border-left-color: var(--fill-color);\n",
              "    }\n",
              "    20% {\n",
              "      border-color: transparent;\n",
              "      border-left-color: var(--fill-color);\n",
              "      border-top-color: var(--fill-color);\n",
              "    }\n",
              "    30% {\n",
              "      border-color: transparent;\n",
              "      border-left-color: var(--fill-color);\n",
              "      border-top-color: var(--fill-color);\n",
              "      border-right-color: var(--fill-color);\n",
              "    }\n",
              "    40% {\n",
              "      border-color: transparent;\n",
              "      border-right-color: var(--fill-color);\n",
              "      border-top-color: var(--fill-color);\n",
              "    }\n",
              "    60% {\n",
              "      border-color: transparent;\n",
              "      border-right-color: var(--fill-color);\n",
              "    }\n",
              "    80% {\n",
              "      border-color: transparent;\n",
              "      border-right-color: var(--fill-color);\n",
              "      border-bottom-color: var(--fill-color);\n",
              "    }\n",
              "    90% {\n",
              "      border-color: transparent;\n",
              "      border-bottom-color: var(--fill-color);\n",
              "    }\n",
              "  }\n",
              "</style>\n",
              "\n",
              "  <script>\n",
              "    async function quickchart(key) {\n",
              "      const quickchartButtonEl =\n",
              "        document.querySelector('#' + key + ' button');\n",
              "      quickchartButtonEl.disabled = true;  // To prevent multiple clicks.\n",
              "      quickchartButtonEl.classList.add('colab-df-spinner');\n",
              "      try {\n",
              "        const charts = await google.colab.kernel.invokeFunction(\n",
              "            'suggestCharts', [key], {});\n",
              "      } catch (error) {\n",
              "        console.error('Error during call to suggestCharts:', error);\n",
              "      }\n",
              "      quickchartButtonEl.classList.remove('colab-df-spinner');\n",
              "      quickchartButtonEl.classList.add('colab-df-quickchart-complete');\n",
              "    }\n",
              "    (() => {\n",
              "      let quickchartButtonEl =\n",
              "        document.querySelector('#df-48e94386-6b08-487d-b2e9-0e51aca822ae button');\n",
              "      quickchartButtonEl.style.display =\n",
              "        google.colab.kernel.accessAllowed ? 'block' : 'none';\n",
              "    })();\n",
              "  </script>\n",
              "</div>\n",
              "\n",
              "    </div>\n",
              "  </div>\n"
            ],
            "application/vnd.google.colaboratory.intrinsic+json": {
              "type": "dataframe",
              "variable_name": "songs_df"
            }
          },
          "metadata": {},
          "execution_count": 203
        }
      ],
      "source": [
        "songs_df.head()"
      ]
    },
    {
      "cell_type": "code",
      "source": [
        "songs_df.columns\n"
      ],
      "metadata": {
        "colab": {
          "base_uri": "https://localhost:8080/"
        },
        "id": "Qz2MSVZiL0D7",
        "outputId": "fd069283-b814-419f-c85e-a86365aee7a1"
      },
      "id": "Qz2MSVZiL0D7",
      "execution_count": null,
      "outputs": [
        {
          "output_type": "execute_result",
          "data": {
            "text/plain": [
              "Index(['SongID', 'track_id', 'artists', 'album_name', 'track_name',\n",
              "       'popularity', 'duration_ms', 'explicit', 'danceability', 'energy',\n",
              "       'key', 'loudness', 'mode', 'speechiness', 'acousticness',\n",
              "       'instrumentalness', 'liveness', 'valence', 'tempo', 'time_signature',\n",
              "       'track_genre', 'YouTube URL'],\n",
              "      dtype='object')"
            ]
          },
          "metadata": {},
          "execution_count": 204
        }
      ]
    },
    {
      "cell_type": "code",
      "source": [
        "songs_df.shape"
      ],
      "metadata": {
        "colab": {
          "base_uri": "https://localhost:8080/"
        },
        "id": "HL3_-Hcng0Bl",
        "outputId": "561dc713-ed34-4463-f731-b7fc4825e915"
      },
      "id": "HL3_-Hcng0Bl",
      "execution_count": null,
      "outputs": [
        {
          "output_type": "execute_result",
          "data": {
            "text/plain": [
              "(5000, 22)"
            ]
          },
          "metadata": {},
          "execution_count": 205
        }
      ]
    },
    {
      "cell_type": "code",
      "source": [
        "print(len(songs_df['SongID']))"
      ],
      "metadata": {
        "colab": {
          "base_uri": "https://localhost:8080/"
        },
        "id": "2ug5GUbjg50Y",
        "outputId": "bf9e40e2-548d-42d2-c5f8-53da4a3bfeb6"
      },
      "id": "2ug5GUbjg50Y",
      "execution_count": null,
      "outputs": [
        {
          "output_type": "stream",
          "name": "stdout",
          "text": [
            "5000\n"
          ]
        }
      ]
    },
    {
      "cell_type": "markdown",
      "id": "bd56d3a8",
      "metadata": {
        "papermill": {
          "duration": 0.010303,
          "end_time": "2024-03-26T17:01:23.474106",
          "exception": false,
          "start_time": "2024-03-26T17:01:23.463803",
          "status": "completed"
        },
        "tags": [],
        "id": "bd56d3a8"
      },
      "source": [
        "## EDA"
      ]
    },
    {
      "cell_type": "code",
      "execution_count": null,
      "id": "109f8fa7",
      "metadata": {
        "execution": {
          "iopub.execute_input": "2024-03-26T17:01:23.498530Z",
          "iopub.status.busy": "2024-03-26T17:01:23.498118Z",
          "iopub.status.idle": "2024-03-26T17:01:23.587317Z",
          "shell.execute_reply": "2024-03-26T17:01:23.585361Z"
        },
        "papermill": {
          "duration": 0.105184,
          "end_time": "2024-03-26T17:01:23.590309",
          "exception": false,
          "start_time": "2024-03-26T17:01:23.485125",
          "status": "completed"
        },
        "tags": [],
        "colab": {
          "base_uri": "https://localhost:8080/"
        },
        "id": "109f8fa7",
        "outputId": "2f944610-944b-4ea4-edef-cb324c70dcc7"
      },
      "outputs": [
        {
          "output_type": "stream",
          "name": "stdout",
          "text": [
            "<class 'pandas.core.frame.DataFrame'>\n",
            "RangeIndex: 5000 entries, 0 to 4999\n",
            "Data columns (total 22 columns):\n",
            " #   Column            Non-Null Count  Dtype  \n",
            "---  ------            --------------  -----  \n",
            " 0   SongID            5000 non-null   int64  \n",
            " 1   track_id          5000 non-null   object \n",
            " 2   artists           5000 non-null   object \n",
            " 3   album_name        5000 non-null   object \n",
            " 4   track_name        5000 non-null   object \n",
            " 5   popularity        5000 non-null   int64  \n",
            " 6   duration_ms       5000 non-null   int64  \n",
            " 7   explicit          5000 non-null   bool   \n",
            " 8   danceability      5000 non-null   float64\n",
            " 9   energy            5000 non-null   float64\n",
            " 10  key               5000 non-null   int64  \n",
            " 11  loudness          5000 non-null   float64\n",
            " 12  mode              5000 non-null   int64  \n",
            " 13  speechiness       5000 non-null   float64\n",
            " 14  acousticness      5000 non-null   float64\n",
            " 15  instrumentalness  5000 non-null   float64\n",
            " 16  liveness          5000 non-null   float64\n",
            " 17  valence           5000 non-null   float64\n",
            " 18  tempo             5000 non-null   float64\n",
            " 19  time_signature    5000 non-null   int64  \n",
            " 20  track_genre       5000 non-null   object \n",
            " 21  YouTube URL       5000 non-null   object \n",
            "dtypes: bool(1), float64(9), int64(6), object(6)\n",
            "memory usage: 825.3+ KB\n"
          ]
        }
      ],
      "source": [
        "songs_df.info()"
      ]
    },
    {
      "cell_type": "code",
      "source": [
        "ratings_df.info()"
      ],
      "metadata": {
        "colab": {
          "base_uri": "https://localhost:8080/"
        },
        "id": "VOqPsHcdjNMu",
        "outputId": "ea42fbd3-0428-4a4a-cbb5-ddc1e6c8a8e7"
      },
      "id": "VOqPsHcdjNMu",
      "execution_count": null,
      "outputs": [
        {
          "output_type": "stream",
          "name": "stdout",
          "text": [
            "<class 'pandas.core.frame.DataFrame'>\n",
            "RangeIndex: 2000 entries, 0 to 1999\n",
            "Columns: 5001 entries, Unnamed: 0 to 5260\n",
            "dtypes: int64(5001)\n",
            "memory usage: 76.3 MB\n"
          ]
        }
      ]
    },
    {
      "cell_type": "markdown",
      "id": "013b966d",
      "metadata": {
        "papermill": {
          "duration": 0.010449,
          "end_time": "2024-03-26T17:01:23.611695",
          "exception": false,
          "start_time": "2024-03-26T17:01:23.601246",
          "status": "completed"
        },
        "tags": [],
        "id": "013b966d"
      },
      "source": [
        "### Check Missing Values"
      ]
    },
    {
      "cell_type": "code",
      "source": [
        "songs_df.shape"
      ],
      "metadata": {
        "colab": {
          "base_uri": "https://localhost:8080/"
        },
        "id": "Jl-xawOTz5em",
        "outputId": "a9e5a684-3a8e-4c14-c9c7-2517598a476e"
      },
      "id": "Jl-xawOTz5em",
      "execution_count": null,
      "outputs": [
        {
          "output_type": "execute_result",
          "data": {
            "text/plain": [
              "(5000, 22)"
            ]
          },
          "metadata": {},
          "execution_count": 209
        }
      ]
    },
    {
      "cell_type": "code",
      "source": [
        "sorted_songs_df = songs_df.sort_values(by='popularity', ascending=False)"
      ],
      "metadata": {
        "id": "u-0Rv4mN1tyf"
      },
      "id": "u-0Rv4mN1tyf",
      "execution_count": null,
      "outputs": []
    },
    {
      "cell_type": "code",
      "source": [
        "sorted_songs_df.shape\n"
      ],
      "metadata": {
        "colab": {
          "base_uri": "https://localhost:8080/"
        },
        "id": "tsVsmweP1bDG",
        "outputId": "7161cd39-bc39-4f84-e9f3-ba11d25be63e"
      },
      "id": "tsVsmweP1bDG",
      "execution_count": null,
      "outputs": [
        {
          "output_type": "execute_result",
          "data": {
            "text/plain": [
              "(5000, 22)"
            ]
          },
          "metadata": {},
          "execution_count": 211
        }
      ]
    },
    {
      "cell_type": "code",
      "execution_count": null,
      "id": "088d0351",
      "metadata": {
        "execution": {
          "iopub.execute_input": "2024-03-26T17:01:23.637115Z",
          "iopub.status.busy": "2024-03-26T17:01:23.635908Z",
          "iopub.status.idle": "2024-03-26T17:01:23.711003Z",
          "shell.execute_reply": "2024-03-26T17:01:23.709252Z"
        },
        "papermill": {
          "duration": 0.091306,
          "end_time": "2024-03-26T17:01:23.714725",
          "exception": false,
          "start_time": "2024-03-26T17:01:23.623419",
          "status": "completed"
        },
        "tags": [],
        "colab": {
          "base_uri": "https://localhost:8080/"
        },
        "id": "088d0351",
        "outputId": "9c27f9b5-1898-41df-f387-b0e9fd6f54a2"
      },
      "outputs": [
        {
          "output_type": "execute_result",
          "data": {
            "text/plain": [
              "SongID              0\n",
              "track_id            0\n",
              "artists             0\n",
              "album_name          0\n",
              "track_name          0\n",
              "popularity          0\n",
              "duration_ms         0\n",
              "explicit            0\n",
              "danceability        0\n",
              "energy              0\n",
              "key                 0\n",
              "loudness            0\n",
              "mode                0\n",
              "speechiness         0\n",
              "acousticness        0\n",
              "instrumentalness    0\n",
              "liveness            0\n",
              "valence             0\n",
              "tempo               0\n",
              "time_signature      0\n",
              "track_genre         0\n",
              "YouTube URL         0\n",
              "dtype: int64"
            ]
          },
          "metadata": {},
          "execution_count": 212
        }
      ],
      "source": [
        "sorted_songs_df.isnull().sum()"
      ]
    },
    {
      "cell_type": "code",
      "execution_count": null,
      "id": "d4e4fc93",
      "metadata": {
        "execution": {
          "iopub.execute_input": "2024-03-26T17:01:23.739741Z",
          "iopub.status.busy": "2024-03-26T17:01:23.738810Z",
          "iopub.status.idle": "2024-03-26T17:01:23.823858Z",
          "shell.execute_reply": "2024-03-26T17:01:23.822377Z"
        },
        "papermill": {
          "duration": 0.100421,
          "end_time": "2024-03-26T17:01:23.826835",
          "exception": false,
          "start_time": "2024-03-26T17:01:23.726414",
          "status": "completed"
        },
        "tags": [],
        "id": "d4e4fc93"
      },
      "outputs": [],
      "source": [
        "sorted_songs_df = sorted_songs_df.dropna()"
      ]
    },
    {
      "cell_type": "code",
      "execution_count": null,
      "id": "dd5a7b28",
      "metadata": {
        "execution": {
          "iopub.execute_input": "2024-03-26T17:01:23.850473Z",
          "iopub.status.busy": "2024-03-26T17:01:23.850056Z",
          "iopub.status.idle": "2024-03-26T17:01:23.925200Z",
          "shell.execute_reply": "2024-03-26T17:01:23.923903Z"
        },
        "papermill": {
          "duration": 0.090478,
          "end_time": "2024-03-26T17:01:23.928164",
          "exception": false,
          "start_time": "2024-03-26T17:01:23.837686",
          "status": "completed"
        },
        "tags": [],
        "colab": {
          "base_uri": "https://localhost:8080/"
        },
        "id": "dd5a7b28",
        "outputId": "6b53f3a2-7891-44fe-a7bc-ce3faf245999"
      },
      "outputs": [
        {
          "output_type": "execute_result",
          "data": {
            "text/plain": [
              "SongID              0\n",
              "track_id            0\n",
              "artists             0\n",
              "album_name          0\n",
              "track_name          0\n",
              "popularity          0\n",
              "duration_ms         0\n",
              "explicit            0\n",
              "danceability        0\n",
              "energy              0\n",
              "key                 0\n",
              "loudness            0\n",
              "mode                0\n",
              "speechiness         0\n",
              "acousticness        0\n",
              "instrumentalness    0\n",
              "liveness            0\n",
              "valence             0\n",
              "tempo               0\n",
              "time_signature      0\n",
              "track_genre         0\n",
              "YouTube URL         0\n",
              "dtype: int64"
            ]
          },
          "metadata": {},
          "execution_count": 214
        }
      ],
      "source": [
        "sorted_songs_df.isnull().sum()"
      ]
    },
    {
      "cell_type": "code",
      "source": [
        "sorted_songs_df.shape"
      ],
      "metadata": {
        "colab": {
          "base_uri": "https://localhost:8080/"
        },
        "id": "iknwQ2p3YNEY",
        "outputId": "5c8d6438-63f6-43c6-a4c4-27f59c2af803"
      },
      "id": "iknwQ2p3YNEY",
      "execution_count": null,
      "outputs": [
        {
          "output_type": "execute_result",
          "data": {
            "text/plain": [
              "(5000, 22)"
            ]
          },
          "metadata": {},
          "execution_count": 215
        }
      ]
    },
    {
      "cell_type": "code",
      "source": [
        "sorted_songs_df_with_duplicates = sorted_songs_df.copy()"
      ],
      "metadata": {
        "id": "X9RRAxLuYTZE"
      },
      "id": "X9RRAxLuYTZE",
      "execution_count": null,
      "outputs": []
    },
    {
      "cell_type": "code",
      "execution_count": null,
      "id": "7193bfb3",
      "metadata": {
        "execution": {
          "iopub.execute_input": "2024-03-26T17:01:23.952818Z",
          "iopub.status.busy": "2024-03-26T17:01:23.951914Z",
          "iopub.status.idle": "2024-03-26T17:01:24.008530Z",
          "shell.execute_reply": "2024-03-26T17:01:24.007030Z"
        },
        "papermill": {
          "duration": 0.071805,
          "end_time": "2024-03-26T17:01:24.011204",
          "exception": false,
          "start_time": "2024-03-26T17:01:23.939399",
          "status": "completed"
        },
        "tags": [],
        "colab": {
          "base_uri": "https://localhost:8080/"
        },
        "id": "7193bfb3",
        "outputId": "8f6e3264-9b5c-4c8d-d951-039078107132"
      },
      "outputs": [
        {
          "output_type": "stream",
          "name": "stdout",
          "text": [
            "Number of duplicate track IDs: 0\n",
            "Number of unique track IDs after dropping duplicates: 5000\n"
          ]
        }
      ],
      "source": [
        "import pandas as pd\n",
        "\n",
        "# Assuming df is your DataFrame and 'track_id' is the column containing track IDs\n",
        "num_duplicates = sorted_songs_df.duplicated('track_id').sum()\n",
        "print(\"Number of duplicate track IDs:\", num_duplicates)\n",
        "\n",
        "# Drop rows with duplicate track IDs\n",
        "sorted_songs_df.drop_duplicates('track_id', inplace=True)\n",
        "\n",
        "# Confirm that duplicates have been dropped\n",
        "print(\"Number of unique track IDs after dropping duplicates:\", len(sorted_songs_df))"
      ]
    },
    {
      "cell_type": "code",
      "execution_count": null,
      "id": "c647d96f",
      "metadata": {
        "execution": {
          "iopub.execute_input": "2024-03-26T17:01:24.036892Z",
          "iopub.status.busy": "2024-03-26T17:01:24.036493Z",
          "iopub.status.idle": "2024-03-26T17:01:24.044956Z",
          "shell.execute_reply": "2024-03-26T17:01:24.043412Z"
        },
        "papermill": {
          "duration": 0.023912,
          "end_time": "2024-03-26T17:01:24.047581",
          "exception": false,
          "start_time": "2024-03-26T17:01:24.023669",
          "status": "completed"
        },
        "tags": [],
        "colab": {
          "base_uri": "https://localhost:8080/"
        },
        "id": "c647d96f",
        "outputId": "de6e5f86-98a2-4ebe-e038-db3e02da8d9f"
      },
      "outputs": [
        {
          "output_type": "execute_result",
          "data": {
            "text/plain": [
              "(5000, 22)"
            ]
          },
          "metadata": {},
          "execution_count": 218
        }
      ],
      "source": [
        "sorted_songs_df.shape"
      ]
    },
    {
      "cell_type": "code",
      "execution_count": null,
      "id": "0d8d7657",
      "metadata": {
        "execution": {
          "iopub.execute_input": "2024-03-26T17:01:24.072670Z",
          "iopub.status.busy": "2024-03-26T17:01:24.072251Z",
          "iopub.status.idle": "2024-03-26T17:01:24.183426Z",
          "shell.execute_reply": "2024-03-26T17:01:24.182199Z"
        },
        "papermill": {
          "duration": 0.127515,
          "end_time": "2024-03-26T17:01:24.186583",
          "exception": false,
          "start_time": "2024-03-26T17:01:24.059068",
          "status": "completed"
        },
        "tags": [],
        "colab": {
          "base_uri": "https://localhost:8080/",
          "height": 320
        },
        "id": "0d8d7657",
        "outputId": "326d850c-89cc-4bbb-8435-b0941f745042"
      },
      "outputs": [
        {
          "output_type": "execute_result",
          "data": {
            "text/plain": [
              "            SongID   popularity   duration_ms  danceability       energy  \\\n",
              "count  5000.000000  5000.000000    5000.00000   5000.000000  5000.000000   \n",
              "mean   2499.500000    72.258400  218340.57700      0.608154     0.657153   \n",
              "std    1443.520003     5.656326   59486.08332      0.155976     0.207116   \n",
              "min       0.000000    65.000000   44698.00000      0.000000     0.000099   \n",
              "25%    1249.750000    68.000000  180816.50000      0.508000     0.524750   \n",
              "50%    2499.500000    71.000000  210994.50000      0.619000     0.689000   \n",
              "75%    3749.250000    75.000000  245906.75000      0.724000     0.822000   \n",
              "max    4999.000000   100.000000  811077.00000      0.980000     0.997000   \n",
              "\n",
              "               key     loudness         mode  speechiness  acousticness  \\\n",
              "count  5000.000000  5000.000000  5000.000000  5000.000000   5000.000000   \n",
              "mean      5.352000    -7.044052     0.612600     0.080615      0.249634   \n",
              "std       3.539068     3.998727     0.487205     0.082042      0.276249   \n",
              "min       0.000000   -38.523000     0.000000     0.000000      0.000005   \n",
              "25%       2.000000    -8.474000     0.000000     0.035000      0.023100   \n",
              "50%       5.000000    -6.190000     1.000000     0.048700      0.132000   \n",
              "75%       8.000000    -4.613500     1.000000     0.085100      0.409000   \n",
              "max      11.000000     0.175000     1.000000     0.828000      0.996000   \n",
              "\n",
              "       instrumentalness     liveness      valence        tempo  time_signature  \n",
              "count       5000.000000  5000.000000  5000.000000  5000.000000     5000.000000  \n",
              "mean           0.046691     0.177177     0.503068   121.220211        3.943400  \n",
              "std            0.169607     0.135351     0.232652    28.652813        0.311474  \n",
              "min            0.000000     0.020200     0.000000     0.000000        0.000000  \n",
              "25%            0.000000     0.093500     0.324000    99.049500        4.000000  \n",
              "50%            0.000005     0.123000     0.494000   120.023000        4.000000  \n",
              "75%            0.000817     0.223000     0.684000   138.997000        4.000000  \n",
              "max            1.000000     0.951000     0.992000   208.951000        5.000000  "
            ],
            "text/html": [
              "\n",
              "  <div id=\"df-e34208ac-ccf0-496a-9f47-3ecefdc91770\" class=\"colab-df-container\">\n",
              "    <div>\n",
              "<style scoped>\n",
              "    .dataframe tbody tr th:only-of-type {\n",
              "        vertical-align: middle;\n",
              "    }\n",
              "\n",
              "    .dataframe tbody tr th {\n",
              "        vertical-align: top;\n",
              "    }\n",
              "\n",
              "    .dataframe thead th {\n",
              "        text-align: right;\n",
              "    }\n",
              "</style>\n",
              "<table border=\"1\" class=\"dataframe\">\n",
              "  <thead>\n",
              "    <tr style=\"text-align: right;\">\n",
              "      <th></th>\n",
              "      <th>SongID</th>\n",
              "      <th>popularity</th>\n",
              "      <th>duration_ms</th>\n",
              "      <th>danceability</th>\n",
              "      <th>energy</th>\n",
              "      <th>key</th>\n",
              "      <th>loudness</th>\n",
              "      <th>mode</th>\n",
              "      <th>speechiness</th>\n",
              "      <th>acousticness</th>\n",
              "      <th>instrumentalness</th>\n",
              "      <th>liveness</th>\n",
              "      <th>valence</th>\n",
              "      <th>tempo</th>\n",
              "      <th>time_signature</th>\n",
              "    </tr>\n",
              "  </thead>\n",
              "  <tbody>\n",
              "    <tr>\n",
              "      <th>count</th>\n",
              "      <td>5000.000000</td>\n",
              "      <td>5000.000000</td>\n",
              "      <td>5000.00000</td>\n",
              "      <td>5000.000000</td>\n",
              "      <td>5000.000000</td>\n",
              "      <td>5000.000000</td>\n",
              "      <td>5000.000000</td>\n",
              "      <td>5000.000000</td>\n",
              "      <td>5000.000000</td>\n",
              "      <td>5000.000000</td>\n",
              "      <td>5000.000000</td>\n",
              "      <td>5000.000000</td>\n",
              "      <td>5000.000000</td>\n",
              "      <td>5000.000000</td>\n",
              "      <td>5000.000000</td>\n",
              "    </tr>\n",
              "    <tr>\n",
              "      <th>mean</th>\n",
              "      <td>2499.500000</td>\n",
              "      <td>72.258400</td>\n",
              "      <td>218340.57700</td>\n",
              "      <td>0.608154</td>\n",
              "      <td>0.657153</td>\n",
              "      <td>5.352000</td>\n",
              "      <td>-7.044052</td>\n",
              "      <td>0.612600</td>\n",
              "      <td>0.080615</td>\n",
              "      <td>0.249634</td>\n",
              "      <td>0.046691</td>\n",
              "      <td>0.177177</td>\n",
              "      <td>0.503068</td>\n",
              "      <td>121.220211</td>\n",
              "      <td>3.943400</td>\n",
              "    </tr>\n",
              "    <tr>\n",
              "      <th>std</th>\n",
              "      <td>1443.520003</td>\n",
              "      <td>5.656326</td>\n",
              "      <td>59486.08332</td>\n",
              "      <td>0.155976</td>\n",
              "      <td>0.207116</td>\n",
              "      <td>3.539068</td>\n",
              "      <td>3.998727</td>\n",
              "      <td>0.487205</td>\n",
              "      <td>0.082042</td>\n",
              "      <td>0.276249</td>\n",
              "      <td>0.169607</td>\n",
              "      <td>0.135351</td>\n",
              "      <td>0.232652</td>\n",
              "      <td>28.652813</td>\n",
              "      <td>0.311474</td>\n",
              "    </tr>\n",
              "    <tr>\n",
              "      <th>min</th>\n",
              "      <td>0.000000</td>\n",
              "      <td>65.000000</td>\n",
              "      <td>44698.00000</td>\n",
              "      <td>0.000000</td>\n",
              "      <td>0.000099</td>\n",
              "      <td>0.000000</td>\n",
              "      <td>-38.523000</td>\n",
              "      <td>0.000000</td>\n",
              "      <td>0.000000</td>\n",
              "      <td>0.000005</td>\n",
              "      <td>0.000000</td>\n",
              "      <td>0.020200</td>\n",
              "      <td>0.000000</td>\n",
              "      <td>0.000000</td>\n",
              "      <td>0.000000</td>\n",
              "    </tr>\n",
              "    <tr>\n",
              "      <th>25%</th>\n",
              "      <td>1249.750000</td>\n",
              "      <td>68.000000</td>\n",
              "      <td>180816.50000</td>\n",
              "      <td>0.508000</td>\n",
              "      <td>0.524750</td>\n",
              "      <td>2.000000</td>\n",
              "      <td>-8.474000</td>\n",
              "      <td>0.000000</td>\n",
              "      <td>0.035000</td>\n",
              "      <td>0.023100</td>\n",
              "      <td>0.000000</td>\n",
              "      <td>0.093500</td>\n",
              "      <td>0.324000</td>\n",
              "      <td>99.049500</td>\n",
              "      <td>4.000000</td>\n",
              "    </tr>\n",
              "    <tr>\n",
              "      <th>50%</th>\n",
              "      <td>2499.500000</td>\n",
              "      <td>71.000000</td>\n",
              "      <td>210994.50000</td>\n",
              "      <td>0.619000</td>\n",
              "      <td>0.689000</td>\n",
              "      <td>5.000000</td>\n",
              "      <td>-6.190000</td>\n",
              "      <td>1.000000</td>\n",
              "      <td>0.048700</td>\n",
              "      <td>0.132000</td>\n",
              "      <td>0.000005</td>\n",
              "      <td>0.123000</td>\n",
              "      <td>0.494000</td>\n",
              "      <td>120.023000</td>\n",
              "      <td>4.000000</td>\n",
              "    </tr>\n",
              "    <tr>\n",
              "      <th>75%</th>\n",
              "      <td>3749.250000</td>\n",
              "      <td>75.000000</td>\n",
              "      <td>245906.75000</td>\n",
              "      <td>0.724000</td>\n",
              "      <td>0.822000</td>\n",
              "      <td>8.000000</td>\n",
              "      <td>-4.613500</td>\n",
              "      <td>1.000000</td>\n",
              "      <td>0.085100</td>\n",
              "      <td>0.409000</td>\n",
              "      <td>0.000817</td>\n",
              "      <td>0.223000</td>\n",
              "      <td>0.684000</td>\n",
              "      <td>138.997000</td>\n",
              "      <td>4.000000</td>\n",
              "    </tr>\n",
              "    <tr>\n",
              "      <th>max</th>\n",
              "      <td>4999.000000</td>\n",
              "      <td>100.000000</td>\n",
              "      <td>811077.00000</td>\n",
              "      <td>0.980000</td>\n",
              "      <td>0.997000</td>\n",
              "      <td>11.000000</td>\n",
              "      <td>0.175000</td>\n",
              "      <td>1.000000</td>\n",
              "      <td>0.828000</td>\n",
              "      <td>0.996000</td>\n",
              "      <td>1.000000</td>\n",
              "      <td>0.951000</td>\n",
              "      <td>0.992000</td>\n",
              "      <td>208.951000</td>\n",
              "      <td>5.000000</td>\n",
              "    </tr>\n",
              "  </tbody>\n",
              "</table>\n",
              "</div>\n",
              "    <div class=\"colab-df-buttons\">\n",
              "\n",
              "  <div class=\"colab-df-container\">\n",
              "    <button class=\"colab-df-convert\" onclick=\"convertToInteractive('df-e34208ac-ccf0-496a-9f47-3ecefdc91770')\"\n",
              "            title=\"Convert this dataframe to an interactive table.\"\n",
              "            style=\"display:none;\">\n",
              "\n",
              "  <svg xmlns=\"http://www.w3.org/2000/svg\" height=\"24px\" viewBox=\"0 -960 960 960\">\n",
              "    <path d=\"M120-120v-720h720v720H120Zm60-500h600v-160H180v160Zm220 220h160v-160H400v160Zm0 220h160v-160H400v160ZM180-400h160v-160H180v160Zm440 0h160v-160H620v160ZM180-180h160v-160H180v160Zm440 0h160v-160H620v160Z\"/>\n",
              "  </svg>\n",
              "    </button>\n",
              "\n",
              "  <style>\n",
              "    .colab-df-container {\n",
              "      display:flex;\n",
              "      gap: 12px;\n",
              "    }\n",
              "\n",
              "    .colab-df-convert {\n",
              "      background-color: #E8F0FE;\n",
              "      border: none;\n",
              "      border-radius: 50%;\n",
              "      cursor: pointer;\n",
              "      display: none;\n",
              "      fill: #1967D2;\n",
              "      height: 32px;\n",
              "      padding: 0 0 0 0;\n",
              "      width: 32px;\n",
              "    }\n",
              "\n",
              "    .colab-df-convert:hover {\n",
              "      background-color: #E2EBFA;\n",
              "      box-shadow: 0px 1px 2px rgba(60, 64, 67, 0.3), 0px 1px 3px 1px rgba(60, 64, 67, 0.15);\n",
              "      fill: #174EA6;\n",
              "    }\n",
              "\n",
              "    .colab-df-buttons div {\n",
              "      margin-bottom: 4px;\n",
              "    }\n",
              "\n",
              "    [theme=dark] .colab-df-convert {\n",
              "      background-color: #3B4455;\n",
              "      fill: #D2E3FC;\n",
              "    }\n",
              "\n",
              "    [theme=dark] .colab-df-convert:hover {\n",
              "      background-color: #434B5C;\n",
              "      box-shadow: 0px 1px 3px 1px rgba(0, 0, 0, 0.15);\n",
              "      filter: drop-shadow(0px 1px 2px rgba(0, 0, 0, 0.3));\n",
              "      fill: #FFFFFF;\n",
              "    }\n",
              "  </style>\n",
              "\n",
              "    <script>\n",
              "      const buttonEl =\n",
              "        document.querySelector('#df-e34208ac-ccf0-496a-9f47-3ecefdc91770 button.colab-df-convert');\n",
              "      buttonEl.style.display =\n",
              "        google.colab.kernel.accessAllowed ? 'block' : 'none';\n",
              "\n",
              "      async function convertToInteractive(key) {\n",
              "        const element = document.querySelector('#df-e34208ac-ccf0-496a-9f47-3ecefdc91770');\n",
              "        const dataTable =\n",
              "          await google.colab.kernel.invokeFunction('convertToInteractive',\n",
              "                                                    [key], {});\n",
              "        if (!dataTable) return;\n",
              "\n",
              "        const docLinkHtml = 'Like what you see? Visit the ' +\n",
              "          '<a target=\"_blank\" href=https://colab.research.google.com/notebooks/data_table.ipynb>data table notebook</a>'\n",
              "          + ' to learn more about interactive tables.';\n",
              "        element.innerHTML = '';\n",
              "        dataTable['output_type'] = 'display_data';\n",
              "        await google.colab.output.renderOutput(dataTable, element);\n",
              "        const docLink = document.createElement('div');\n",
              "        docLink.innerHTML = docLinkHtml;\n",
              "        element.appendChild(docLink);\n",
              "      }\n",
              "    </script>\n",
              "  </div>\n",
              "\n",
              "\n",
              "<div id=\"df-ba7ab508-18b1-4b6a-931d-3cd57a07454a\">\n",
              "  <button class=\"colab-df-quickchart\" onclick=\"quickchart('df-ba7ab508-18b1-4b6a-931d-3cd57a07454a')\"\n",
              "            title=\"Suggest charts\"\n",
              "            style=\"display:none;\">\n",
              "\n",
              "<svg xmlns=\"http://www.w3.org/2000/svg\" height=\"24px\"viewBox=\"0 0 24 24\"\n",
              "     width=\"24px\">\n",
              "    <g>\n",
              "        <path d=\"M19 3H5c-1.1 0-2 .9-2 2v14c0 1.1.9 2 2 2h14c1.1 0 2-.9 2-2V5c0-1.1-.9-2-2-2zM9 17H7v-7h2v7zm4 0h-2V7h2v10zm4 0h-2v-4h2v4z\"/>\n",
              "    </g>\n",
              "</svg>\n",
              "  </button>\n",
              "\n",
              "<style>\n",
              "  .colab-df-quickchart {\n",
              "      --bg-color: #E8F0FE;\n",
              "      --fill-color: #1967D2;\n",
              "      --hover-bg-color: #E2EBFA;\n",
              "      --hover-fill-color: #174EA6;\n",
              "      --disabled-fill-color: #AAA;\n",
              "      --disabled-bg-color: #DDD;\n",
              "  }\n",
              "\n",
              "  [theme=dark] .colab-df-quickchart {\n",
              "      --bg-color: #3B4455;\n",
              "      --fill-color: #D2E3FC;\n",
              "      --hover-bg-color: #434B5C;\n",
              "      --hover-fill-color: #FFFFFF;\n",
              "      --disabled-bg-color: #3B4455;\n",
              "      --disabled-fill-color: #666;\n",
              "  }\n",
              "\n",
              "  .colab-df-quickchart {\n",
              "    background-color: var(--bg-color);\n",
              "    border: none;\n",
              "    border-radius: 50%;\n",
              "    cursor: pointer;\n",
              "    display: none;\n",
              "    fill: var(--fill-color);\n",
              "    height: 32px;\n",
              "    padding: 0;\n",
              "    width: 32px;\n",
              "  }\n",
              "\n",
              "  .colab-df-quickchart:hover {\n",
              "    background-color: var(--hover-bg-color);\n",
              "    box-shadow: 0 1px 2px rgba(60, 64, 67, 0.3), 0 1px 3px 1px rgba(60, 64, 67, 0.15);\n",
              "    fill: var(--button-hover-fill-color);\n",
              "  }\n",
              "\n",
              "  .colab-df-quickchart-complete:disabled,\n",
              "  .colab-df-quickchart-complete:disabled:hover {\n",
              "    background-color: var(--disabled-bg-color);\n",
              "    fill: var(--disabled-fill-color);\n",
              "    box-shadow: none;\n",
              "  }\n",
              "\n",
              "  .colab-df-spinner {\n",
              "    border: 2px solid var(--fill-color);\n",
              "    border-color: transparent;\n",
              "    border-bottom-color: var(--fill-color);\n",
              "    animation:\n",
              "      spin 1s steps(1) infinite;\n",
              "  }\n",
              "\n",
              "  @keyframes spin {\n",
              "    0% {\n",
              "      border-color: transparent;\n",
              "      border-bottom-color: var(--fill-color);\n",
              "      border-left-color: var(--fill-color);\n",
              "    }\n",
              "    20% {\n",
              "      border-color: transparent;\n",
              "      border-left-color: var(--fill-color);\n",
              "      border-top-color: var(--fill-color);\n",
              "    }\n",
              "    30% {\n",
              "      border-color: transparent;\n",
              "      border-left-color: var(--fill-color);\n",
              "      border-top-color: var(--fill-color);\n",
              "      border-right-color: var(--fill-color);\n",
              "    }\n",
              "    40% {\n",
              "      border-color: transparent;\n",
              "      border-right-color: var(--fill-color);\n",
              "      border-top-color: var(--fill-color);\n",
              "    }\n",
              "    60% {\n",
              "      border-color: transparent;\n",
              "      border-right-color: var(--fill-color);\n",
              "    }\n",
              "    80% {\n",
              "      border-color: transparent;\n",
              "      border-right-color: var(--fill-color);\n",
              "      border-bottom-color: var(--fill-color);\n",
              "    }\n",
              "    90% {\n",
              "      border-color: transparent;\n",
              "      border-bottom-color: var(--fill-color);\n",
              "    }\n",
              "  }\n",
              "</style>\n",
              "\n",
              "  <script>\n",
              "    async function quickchart(key) {\n",
              "      const quickchartButtonEl =\n",
              "        document.querySelector('#' + key + ' button');\n",
              "      quickchartButtonEl.disabled = true;  // To prevent multiple clicks.\n",
              "      quickchartButtonEl.classList.add('colab-df-spinner');\n",
              "      try {\n",
              "        const charts = await google.colab.kernel.invokeFunction(\n",
              "            'suggestCharts', [key], {});\n",
              "      } catch (error) {\n",
              "        console.error('Error during call to suggestCharts:', error);\n",
              "      }\n",
              "      quickchartButtonEl.classList.remove('colab-df-spinner');\n",
              "      quickchartButtonEl.classList.add('colab-df-quickchart-complete');\n",
              "    }\n",
              "    (() => {\n",
              "      let quickchartButtonEl =\n",
              "        document.querySelector('#df-ba7ab508-18b1-4b6a-931d-3cd57a07454a button');\n",
              "      quickchartButtonEl.style.display =\n",
              "        google.colab.kernel.accessAllowed ? 'block' : 'none';\n",
              "    })();\n",
              "  </script>\n",
              "</div>\n",
              "\n",
              "    </div>\n",
              "  </div>\n"
            ],
            "application/vnd.google.colaboratory.intrinsic+json": {
              "type": "dataframe",
              "summary": "{\n  \"name\": \"sorted_songs_df\",\n  \"rows\": 8,\n  \"fields\": [\n    {\n      \"column\": \"SongID\",\n      \"properties\": {\n        \"dtype\": \"number\",\n        \"std\": 1801.805240520758,\n        \"min\": 0.0,\n        \"max\": 5000.0,\n        \"num_unique_values\": 7,\n        \"samples\": [\n          5000.0,\n          2499.5,\n          3749.25\n        ],\n        \"semantic_type\": \"\",\n        \"description\": \"\"\n      }\n    },\n    {\n      \"column\": \"popularity\",\n      \"properties\": {\n        \"dtype\": \"number\",\n        \"std\": 1744.8916658557687,\n        \"min\": 5.656326391364728,\n        \"max\": 5000.0,\n        \"num_unique_values\": 8,\n        \"samples\": [\n          72.2584,\n          71.0,\n          5000.0\n        ],\n        \"semantic_type\": \"\",\n        \"description\": \"\"\n      }\n    },\n    {\n      \"column\": \"duration_ms\",\n      \"properties\": {\n        \"dtype\": \"number\",\n        \"std\": 254768.6898428372,\n        \"min\": 5000.0,\n        \"max\": 811077.0,\n        \"num_unique_values\": 8,\n        \"samples\": [\n          218340.577,\n          210994.5,\n          5000.0\n        ],\n        \"semantic_type\": \"\",\n        \"description\": \"\"\n      }\n    },\n    {\n      \"column\": \"danceability\",\n      \"properties\": {\n        \"dtype\": \"number\",\n        \"std\": 1767.5853986848026,\n        \"min\": 0.0,\n        \"max\": 5000.0,\n        \"num_unique_values\": 8,\n        \"samples\": [\n          0.60815434,\n          0.619,\n          5000.0\n        ],\n        \"semantic_type\": \"\",\n        \"description\": \"\"\n      }\n    },\n    {\n      \"column\": \"energy\",\n      \"properties\": {\n        \"dtype\": \"number\",\n        \"std\": 1767.5701480304606,\n        \"min\": 9.94e-05,\n        \"max\": 5000.0,\n        \"num_unique_values\": 8,\n        \"samples\": [\n          0.65715340188,\n          0.689,\n          5000.0\n        ],\n        \"semantic_type\": \"\",\n        \"description\": \"\"\n      }\n    },\n    {\n      \"column\": \"key\",\n      \"properties\": {\n        \"dtype\": \"number\",\n        \"std\": 1766.0079744525265,\n        \"min\": 0.0,\n        \"max\": 5000.0,\n        \"num_unique_values\": 8,\n        \"samples\": [\n          5.352,\n          5.0,\n          5000.0\n        ],\n        \"semantic_type\": \"\",\n        \"description\": \"\"\n      }\n    },\n    {\n      \"column\": \"loudness\",\n      \"properties\": {\n        \"dtype\": \"number\",\n        \"std\": 1770.8778889479304,\n        \"min\": -38.523,\n        \"max\": 5000.0,\n        \"num_unique_values\": 8,\n        \"samples\": [\n          -7.044052199999999,\n          -6.1899999999999995,\n          5000.0\n        ],\n        \"semantic_type\": \"\",\n        \"description\": \"\"\n      }\n    },\n    {\n      \"column\": \"mode\",\n      \"properties\": {\n        \"dtype\": \"number\",\n        \"std\": 1767.5599304992315,\n        \"min\": 0.0,\n        \"max\": 5000.0,\n        \"num_unique_values\": 5,\n        \"samples\": [\n          0.6126,\n          1.0,\n          0.4872050017628602\n        ],\n        \"semantic_type\": \"\",\n        \"description\": \"\"\n      }\n    },\n    {\n      \"column\": \"speechiness\",\n      \"properties\": {\n        \"dtype\": \"number\",\n        \"std\": 1767.7084124576634,\n        \"min\": 0.0,\n        \"max\": 5000.0,\n        \"num_unique_values\": 8,\n        \"samples\": [\n          0.08061476000000001,\n          0.0487,\n          5000.0\n        ],\n        \"semantic_type\": \"\",\n        \"description\": \"\"\n      }\n    },\n    {\n      \"column\": \"acousticness\",\n      \"properties\": {\n        \"dtype\": \"number\",\n        \"std\": 1767.661622721929,\n        \"min\": 4.76e-06,\n        \"max\": 5000.0,\n        \"num_unique_values\": 8,\n        \"samples\": [\n          0.249634055644,\n          0.132,\n          5000.0\n        ],\n        \"semantic_type\": \"\",\n        \"description\": \"\"\n      }\n    },\n    {\n      \"column\": \"instrumentalness\",\n      \"properties\": {\n        \"dtype\": \"number\",\n        \"std\": 1767.7055122858733,\n        \"min\": 0.0,\n        \"max\": 5000.0,\n        \"num_unique_values\": 7,\n        \"samples\": [\n          5000.0,\n          0.04669070586599999,\n          0.00081675\n        ],\n        \"semantic_type\": \"\",\n        \"description\": \"\"\n      }\n    },\n    {\n      \"column\": \"liveness\",\n      \"properties\": {\n        \"dtype\": \"number\",\n        \"std\": 1767.6799411830348,\n        \"min\": 0.0202,\n        \"max\": 5000.0,\n        \"num_unique_values\": 8,\n        \"samples\": [\n          0.17717722,\n          0.123,\n          5000.0\n        ],\n        \"semantic_type\": \"\",\n        \"description\": \"\"\n      }\n    },\n    {\n      \"column\": \"valence\",\n      \"properties\": {\n        \"dtype\": \"number\",\n        \"std\": 1767.6038524474961,\n        \"min\": 0.0,\n        \"max\": 5000.0,\n        \"num_unique_values\": 8,\n        \"samples\": [\n          0.503067884,\n          0.494,\n          5000.0\n        ],\n        \"semantic_type\": \"\",\n        \"description\": \"\"\n      }\n    },\n    {\n      \"column\": \"tempo\",\n      \"properties\": {\n        \"dtype\": \"number\",\n        \"std\": 1732.7663014306727,\n        \"min\": 0.0,\n        \"max\": 5000.0,\n        \"num_unique_values\": 8,\n        \"samples\": [\n          121.22021099999999,\n          120.023,\n          5000.0\n        ],\n        \"semantic_type\": \"\",\n        \"description\": \"\"\n      }\n    },\n    {\n      \"column\": \"time_signature\",\n      \"properties\": {\n        \"dtype\": \"number\",\n        \"std\": 1766.6943944688257,\n        \"min\": 0.0,\n        \"max\": 5000.0,\n        \"num_unique_values\": 6,\n        \"samples\": [\n          5000.0,\n          3.9434,\n          5.0\n        ],\n        \"semantic_type\": \"\",\n        \"description\": \"\"\n      }\n    }\n  ]\n}"
            }
          },
          "metadata": {},
          "execution_count": 219
        }
      ],
      "source": [
        "sorted_songs_df.describe()"
      ]
    },
    {
      "cell_type": "code",
      "execution_count": null,
      "id": "a24e0833",
      "metadata": {
        "execution": {
          "iopub.execute_input": "2024-03-26T17:01:24.213281Z",
          "iopub.status.busy": "2024-03-26T17:01:24.212851Z",
          "iopub.status.idle": "2024-03-26T17:01:25.576287Z",
          "shell.execute_reply": "2024-03-26T17:01:25.574887Z"
        },
        "papermill": {
          "duration": 1.38022,
          "end_time": "2024-03-26T17:01:25.579164",
          "exception": false,
          "start_time": "2024-03-26T17:01:24.198944",
          "status": "completed"
        },
        "tags": [],
        "colab": {
          "base_uri": "https://localhost:8080/"
        },
        "id": "a24e0833",
        "outputId": "8cf643ee-c7f5-4611-a9f0-2be7d39df0c6"
      },
      "outputs": [
        {
          "output_type": "stream",
          "name": "stdout",
          "text": [
            "popularity has 42 outliers.\n",
            "duration_ms has 58 outliers.\n",
            "danceability has 18 outliers.\n",
            "energy has 43 outliers.\n",
            "loudness has 73 outliers.\n",
            "speechiness has 138 outliers.\n",
            "acousticness has 0 outliers.\n",
            "instrumentalness has 192 outliers.\n",
            "liveness has 131 outliers.\n",
            "valence has 0 outliers.\n",
            "tempo has 6 outliers.\n"
          ]
        }
      ],
      "source": [
        "from scipy import stats\n",
        "\n",
        "# Define a function to find outliers using Z-score\n",
        "def find_outliers(dataframe, column_name):\n",
        "    # Calculate Z-scores\n",
        "    z_scores = stats.zscore(dataframe[column_name])\n",
        "    # Define a threshold for identifying outliers\n",
        "    threshold = 3\n",
        "    # Get boolean array of outliers\n",
        "    outliers = (z_scores > threshold) | (z_scores < -threshold)\n",
        "    # Return the dataframe of outliers\n",
        "    return dataframe[outliers]\n",
        "\n",
        "# Find outliers for each numerical column in the dataset\n",
        "numerical_columns = ['popularity', 'duration_ms', 'danceability', 'energy', 'loudness', 'speechiness', 'acousticness', 'instrumentalness', 'liveness', 'valence', 'tempo']\n",
        "outliers_dict = {}\n",
        "\n",
        "for column in numerical_columns:\n",
        "    outliers_dict[column] = find_outliers(sorted_songs_df, column)\n",
        "\n",
        "# Print the number of outliers for each column\n",
        "for column, outliers_df in outliers_dict.items():\n",
        "    print(f\"{column} has {len(outliers_df)} outliers.\")"
      ]
    },
    {
      "cell_type": "code",
      "execution_count": null,
      "id": "f5e51c50",
      "metadata": {
        "execution": {
          "iopub.execute_input": "2024-03-26T17:01:25.653707Z",
          "iopub.status.busy": "2024-03-26T17:01:25.653176Z",
          "iopub.status.idle": "2024-03-26T17:01:26.188398Z",
          "shell.execute_reply": "2024-03-26T17:01:26.186893Z"
        },
        "papermill": {
          "duration": 0.552923,
          "end_time": "2024-03-26T17:01:26.191770",
          "exception": false,
          "start_time": "2024-03-26T17:01:25.638847",
          "status": "completed"
        },
        "tags": [],
        "colab": {
          "base_uri": "https://localhost:8080/",
          "height": 564
        },
        "id": "f5e51c50",
        "outputId": "01738f9e-b31f-4093-c20c-a38579e486fa"
      },
      "outputs": [
        {
          "output_type": "display_data",
          "data": {
            "text/plain": [
              "<Figure size 1000x600 with 1 Axes>"
            ],
            "image/png": "[encoded data removed]"
          },
          "metadata": {}
        }
      ],
      "source": [
        "import matplotlib.pyplot as plt\n",
        "\n",
        "# Convert duration_ms to minutes\n",
        "sorted_songs_df['duration_min'] = sorted_songs_df['duration_ms'] / 60000\n",
        "\n",
        "# Plot the distribution of duration_min\n",
        "plt.figure(figsize=(10, 6))\n",
        "plt.hist(sorted_songs_df['duration_min'], bins=100, color='skyblue', edgecolor='black')\n",
        "plt.xlabel('Duration (min)')\n",
        "plt.ylabel('Frequency')\n",
        "plt.title('Distribution of Duration (min)')\n",
        "plt.grid(axis='y', alpha=0.75)\n",
        "plt.show()"
      ]
    },
    {
      "cell_type": "code",
      "execution_count": null,
      "id": "edab3137",
      "metadata": {
        "execution": {
          "iopub.execute_input": "2024-03-26T17:01:26.221458Z",
          "iopub.status.busy": "2024-03-26T17:01:26.221061Z",
          "iopub.status.idle": "2024-03-26T17:01:26.258284Z",
          "shell.execute_reply": "2024-03-26T17:01:26.256415Z"
        },
        "papermill": {
          "duration": 0.055353,
          "end_time": "2024-03-26T17:01:26.261259",
          "exception": false,
          "start_time": "2024-03-26T17:01:26.205906",
          "status": "completed"
        },
        "tags": [],
        "colab": {
          "base_uri": "https://localhost:8080/",
          "height": 143
        },
        "id": "edab3137",
        "outputId": "426ba35d-edf2-49a3-c1c2-e6f36b40f79d"
      },
      "outputs": [
        {
          "output_type": "display_data",
          "data": {
            "text/plain": [
              "  Duration Interval (min)  Frequency\n",
              "0              (0.0, 5.0]       4602\n",
              "1             (5.0, 10.0]        397\n",
              "2            (10.0, 15.0]          1"
            ],
            "text/html": [
              "\n",
              "  <div id=\"df-905579a2-fccf-40b6-955e-c936cd6e4791\" class=\"colab-df-container\">\n",
              "    <div>\n",
              "<style scoped>\n",
              "    .dataframe tbody tr th:only-of-type {\n",
              "        vertical-align: middle;\n",
              "    }\n",
              "\n",
              "    .dataframe tbody tr th {\n",
              "        vertical-align: top;\n",
              "    }\n",
              "\n",
              "    .dataframe thead th {\n",
              "        text-align: right;\n",
              "    }\n",
              "</style>\n",
              "<table border=\"1\" class=\"dataframe\">\n",
              "  <thead>\n",
              "    <tr style=\"text-align: right;\">\n",
              "      <th></th>\n",
              "      <th>Duration Interval (min)</th>\n",
              "      <th>Frequency</th>\n",
              "    </tr>\n",
              "  </thead>\n",
              "  <tbody>\n",
              "    <tr>\n",
              "      <th>0</th>\n",
              "      <td>(0.0, 5.0]</td>\n",
              "      <td>4602</td>\n",
              "    </tr>\n",
              "    <tr>\n",
              "      <th>1</th>\n",
              "      <td>(5.0, 10.0]</td>\n",
              "      <td>397</td>\n",
              "    </tr>\n",
              "    <tr>\n",
              "      <th>2</th>\n",
              "      <td>(10.0, 15.0]</td>\n",
              "      <td>1</td>\n",
              "    </tr>\n",
              "  </tbody>\n",
              "</table>\n",
              "</div>\n",
              "    <div class=\"colab-df-buttons\">\n",
              "\n",
              "  <div class=\"colab-df-container\">\n",
              "    <button class=\"colab-df-convert\" onclick=\"convertToInteractive('df-905579a2-fccf-40b6-955e-c936cd6e4791')\"\n",
              "            title=\"Convert this dataframe to an interactive table.\"\n",
              "            style=\"display:none;\">\n",
              "\n",
              "  <svg xmlns=\"http://www.w3.org/2000/svg\" height=\"24px\" viewBox=\"0 -960 960 960\">\n",
              "    <path d=\"M120-120v-720h720v720H120Zm60-500h600v-160H180v160Zm220 220h160v-160H400v160Zm0 220h160v-160H400v160ZM180-400h160v-160H180v160Zm440 0h160v-160H620v160ZM180-180h160v-160H180v160Zm440 0h160v-160H620v160Z\"/>\n",
              "  </svg>\n",
              "    </button>\n",
              "\n",
              "  <style>\n",
              "    .colab-df-container {\n",
              "      display:flex;\n",
              "      gap: 12px;\n",
              "    }\n",
              "\n",
              "    .colab-df-convert {\n",
              "      background-color: #E8F0FE;\n",
              "      border: none;\n",
              "      border-radius: 50%;\n",
              "      cursor: pointer;\n",
              "      display: none;\n",
              "      fill: #1967D2;\n",
              "      height: 32px;\n",
              "      padding: 0 0 0 0;\n",
              "      width: 32px;\n",
              "    }\n",
              "\n",
              "    .colab-df-convert:hover {\n",
              "      background-color: #E2EBFA;\n",
              "      box-shadow: 0px 1px 2px rgba(60, 64, 67, 0.3), 0px 1px 3px 1px rgba(60, 64, 67, 0.15);\n",
              "      fill: #174EA6;\n",
              "    }\n",
              "\n",
              "    .colab-df-buttons div {\n",
              "      margin-bottom: 4px;\n",
              "    }\n",
              "\n",
              "    [theme=dark] .colab-df-convert {\n",
              "      background-color: #3B4455;\n",
              "      fill: #D2E3FC;\n",
              "    }\n",
              "\n",
              "    [theme=dark] .colab-df-convert:hover {\n",
              "      background-color: #434B5C;\n",
              "      box-shadow: 0px 1px 3px 1px rgba(0, 0, 0, 0.15);\n",
              "      filter: drop-shadow(0px 1px 2px rgba(0, 0, 0, 0.3));\n",
              "      fill: #FFFFFF;\n",
              "    }\n",
              "  </style>\n",
              "\n",
              "    <script>\n",
              "      const buttonEl =\n",
              "        document.querySelector('#df-905579a2-fccf-40b6-955e-c936cd6e4791 button.colab-df-convert');\n",
              "      buttonEl.style.display =\n",
              "        google.colab.kernel.accessAllowed ? 'block' : 'none';\n",
              "\n",
              "      async function convertToInteractive(key) {\n",
              "        const element = document.querySelector('#df-905579a2-fccf-40b6-955e-c936cd6e4791');\n",
              "        const dataTable =\n",
              "          await google.colab.kernel.invokeFunction('convertToInteractive',\n",
              "                                                    [key], {});\n",
              "        if (!dataTable) return;\n",
              "\n",
              "        const docLinkHtml = 'Like what you see? Visit the ' +\n",
              "          '<a target=\"_blank\" href=https://colab.research.google.com/notebooks/data_table.ipynb>data table notebook</a>'\n",
              "          + ' to learn more about interactive tables.';\n",
              "        element.innerHTML = '';\n",
              "        dataTable['output_type'] = 'display_data';\n",
              "        await google.colab.output.renderOutput(dataTable, element);\n",
              "        const docLink = document.createElement('div');\n",
              "        docLink.innerHTML = docLinkHtml;\n",
              "        element.appendChild(docLink);\n",
              "      }\n",
              "    </script>\n",
              "  </div>\n",
              "\n",
              "\n",
              "<div id=\"df-5887279a-08ff-4cfc-98f4-fffafa4e52f3\">\n",
              "  <button class=\"colab-df-quickchart\" onclick=\"quickchart('df-5887279a-08ff-4cfc-98f4-fffafa4e52f3')\"\n",
              "            title=\"Suggest charts\"\n",
              "            style=\"display:none;\">\n",
              "\n",
              "<svg xmlns=\"http://www.w3.org/2000/svg\" height=\"24px\"viewBox=\"0 0 24 24\"\n",
              "     width=\"24px\">\n",
              "    <g>\n",
              "        <path d=\"M19 3H5c-1.1 0-2 .9-2 2v14c0 1.1.9 2 2 2h14c1.1 0 2-.9 2-2V5c0-1.1-.9-2-2-2zM9 17H7v-7h2v7zm4 0h-2V7h2v10zm4 0h-2v-4h2v4z\"/>\n",
              "    </g>\n",
              "</svg>\n",
              "  </button>\n",
              "\n",
              "<style>\n",
              "  .colab-df-quickchart {\n",
              "      --bg-color: #E8F0FE;\n",
              "      --fill-color: #1967D2;\n",
              "      --hover-bg-color: #E2EBFA;\n",
              "      --hover-fill-color: #174EA6;\n",
              "      --disabled-fill-color: #AAA;\n",
              "      --disabled-bg-color: #DDD;\n",
              "  }\n",
              "\n",
              "  [theme=dark] .colab-df-quickchart {\n",
              "      --bg-color: #3B4455;\n",
              "      --fill-color: #D2E3FC;\n",
              "      --hover-bg-color: #434B5C;\n",
              "      --hover-fill-color: #FFFFFF;\n",
              "      --disabled-bg-color: #3B4455;\n",
              "      --disabled-fill-color: #666;\n",
              "  }\n",
              "\n",
              "  .colab-df-quickchart {\n",
              "    background-color: var(--bg-color);\n",
              "    border: none;\n",
              "    border-radius: 50%;\n",
              "    cursor: pointer;\n",
              "    display: none;\n",
              "    fill: var(--fill-color);\n",
              "    height: 32px;\n",
              "    padding: 0;\n",
              "    width: 32px;\n",
              "  }\n",
              "\n",
              "  .colab-df-quickchart:hover {\n",
              "    background-color: var(--hover-bg-color);\n",
              "    box-shadow: 0 1px 2px rgba(60, 64, 67, 0.3), 0 1px 3px 1px rgba(60, 64, 67, 0.15);\n",
              "    fill: var(--button-hover-fill-color);\n",
              "  }\n",
              "\n",
              "  .colab-df-quickchart-complete:disabled,\n",
              "  .colab-df-quickchart-complete:disabled:hover {\n",
              "    background-color: var(--disabled-bg-color);\n",
              "    fill: var(--disabled-fill-color);\n",
              "    box-shadow: none;\n",
              "  }\n",
              "\n",
              "  .colab-df-spinner {\n",
              "    border: 2px solid var(--fill-color);\n",
              "    border-color: transparent;\n",
              "    border-bottom-color: var(--fill-color);\n",
              "    animation:\n",
              "      spin 1s steps(1) infinite;\n",
              "  }\n",
              "\n",
              "  @keyframes spin {\n",
              "    0% {\n",
              "      border-color: transparent;\n",
              "      border-bottom-color: var(--fill-color);\n",
              "      border-left-color: var(--fill-color);\n",
              "    }\n",
              "    20% {\n",
              "      border-color: transparent;\n",
              "      border-left-color: var(--fill-color);\n",
              "      border-top-color: var(--fill-color);\n",
              "    }\n",
              "    30% {\n",
              "      border-color: transparent;\n",
              "      border-left-color: var(--fill-color);\n",
              "      border-top-color: var(--fill-color);\n",
              "      border-right-color: var(--fill-color);\n",
              "    }\n",
              "    40% {\n",
              "      border-color: transparent;\n",
              "      border-right-color: var(--fill-color);\n",
              "      border-top-color: var(--fill-color);\n",
              "    }\n",
              "    60% {\n",
              "      border-color: transparent;\n",
              "      border-right-color: var(--fill-color);\n",
              "    }\n",
              "    80% {\n",
              "      border-color: transparent;\n",
              "      border-right-color: var(--fill-color);\n",
              "      border-bottom-color: var(--fill-color);\n",
              "    }\n",
              "    90% {\n",
              "      border-color: transparent;\n",
              "      border-bottom-color: var(--fill-color);\n",
              "    }\n",
              "  }\n",
              "</style>\n",
              "\n",
              "  <script>\n",
              "    async function quickchart(key) {\n",
              "      const quickchartButtonEl =\n",
              "        document.querySelector('#' + key + ' button');\n",
              "      quickchartButtonEl.disabled = true;  // To prevent multiple clicks.\n",
              "      quickchartButtonEl.classList.add('colab-df-spinner');\n",
              "      try {\n",
              "        const charts = await google.colab.kernel.invokeFunction(\n",
              "            'suggestCharts', [key], {});\n",
              "      } catch (error) {\n",
              "        console.error('Error during call to suggestCharts:', error);\n",
              "      }\n",
              "      quickchartButtonEl.classList.remove('colab-df-spinner');\n",
              "      quickchartButtonEl.classList.add('colab-df-quickchart-complete');\n",
              "    }\n",
              "    (() => {\n",
              "      let quickchartButtonEl =\n",
              "        document.querySelector('#df-5887279a-08ff-4cfc-98f4-fffafa4e52f3 button');\n",
              "      quickchartButtonEl.style.display =\n",
              "        google.colab.kernel.accessAllowed ? 'block' : 'none';\n",
              "    })();\n",
              "  </script>\n",
              "</div>\n",
              "\n",
              "  <div id=\"id_21be5f91-297e-45f6-9637-08092901454f\">\n",
              "    <style>\n",
              "      .colab-df-generate {\n",
              "        background-color: #E8F0FE;\n",
              "        border: none;\n",
              "        border-radius: 50%;\n",
              "        cursor: pointer;\n",
              "        display: none;\n",
              "        fill: #1967D2;\n",
              "        height: 32px;\n",
              "        padding: 0 0 0 0;\n",
              "        width: 32px;\n",
              "      }\n",
              "\n",
              "      .colab-df-generate:hover {\n",
              "        background-color: #E2EBFA;\n",
              "        box-shadow: 0px 1px 2px rgba(60, 64, 67, 0.3), 0px 1px 3px 1px rgba(60, 64, 67, 0.15);\n",
              "        fill: #174EA6;\n",
              "      }\n",
              "\n",
              "      [theme=dark] .colab-df-generate {\n",
              "        background-color: #3B4455;\n",
              "        fill: #D2E3FC;\n",
              "      }\n",
              "\n",
              "      [theme=dark] .colab-df-generate:hover {\n",
              "        background-color: #434B5C;\n",
              "        box-shadow: 0px 1px 3px 1px rgba(0, 0, 0, 0.15);\n",
              "        filter: drop-shadow(0px 1px 2px rgba(0, 0, 0, 0.3));\n",
              "        fill: #FFFFFF;\n",
              "      }\n",
              "    </style>\n",
              "    <button class=\"colab-df-generate\" onclick=\"generateWithVariable('histogram_df')\"\n",
              "            title=\"Generate code using this dataframe.\"\n",
              "            style=\"display:none;\">\n",
              "\n",
              "  <svg xmlns=\"http://www.w3.org/2000/svg\" height=\"24px\"viewBox=\"0 0 24 24\"\n",
              "       width=\"24px\">\n",
              "    <path d=\"M7,19H8.4L18.45,9,17,7.55,7,17.6ZM5,21V16.75L18.45,3.32a2,2,0,0,1,2.83,0l1.4,1.43a1.91,1.91,0,0,1,.58,1.4,1.91,1.91,0,0,1-.58,1.4L9.25,21ZM18.45,9,17,7.55Zm-12,3A5.31,5.31,0,0,0,4.9,8.1,5.31,5.31,0,0,0,1,6.5,5.31,5.31,0,0,0,4.9,4.9,5.31,5.31,0,0,0,6.5,1,5.31,5.31,0,0,0,8.1,4.9,5.31,5.31,0,0,0,12,6.5,5.46,5.46,0,0,0,6.5,12Z\"/>\n",
              "  </svg>\n",
              "    </button>\n",
              "    <script>\n",
              "      (() => {\n",
              "      const buttonEl =\n",
              "        document.querySelector('#id_21be5f91-297e-45f6-9637-08092901454f button.colab-df-generate');\n",
              "      buttonEl.style.display =\n",
              "        google.colab.kernel.accessAllowed ? 'block' : 'none';\n",
              "\n",
              "      buttonEl.onclick = () => {\n",
              "        google.colab.notebook.generateWithVariable('histogram_df');\n",
              "      }\n",
              "      })();\n",
              "    </script>\n",
              "  </div>\n",
              "\n",
              "    </div>\n",
              "  </div>\n"
            ],
            "application/vnd.google.colaboratory.intrinsic+json": {
              "type": "dataframe",
              "variable_name": "histogram_df",
              "summary": "{\n  \"name\": \"histogram_df\",\n  \"rows\": 3,\n  \"fields\": [\n    {\n      \"column\": \"Duration Interval (min)\",\n      \"properties\": {\n        \"dtype\": \"category\",\n        \"num_unique_values\": 3,\n        \"samples\": [\n          \"(0.0, 5.0]\",\n          \"(5.0, 10.0]\",\n          \"(10.0, 15.0]\"\n        ],\n        \"semantic_type\": \"\",\n        \"description\": \"\"\n      }\n    },\n    {\n      \"column\": \"Frequency\",\n      \"properties\": {\n        \"dtype\": \"number\",\n        \"std\": 2549,\n        \"min\": 1,\n        \"max\": 4602,\n        \"num_unique_values\": 3,\n        \"samples\": [\n          4602,\n          397,\n          1\n        ],\n        \"semantic_type\": \"\",\n        \"description\": \"\"\n      }\n    }\n  ]\n}"
            }
          },
          "metadata": {}
        }
      ],
      "source": [
        "import numpy as np\n",
        "\n",
        "# Define the bin edges for the intervals\n",
        "bin_edges = np.arange(0, sorted_songs_df['duration_min'].max() + 5, 5)\n",
        "\n",
        "# Use cut to create bins\n",
        "sorted_songs_df['duration_interval'] = pd.cut(sorted_songs_df['duration_min'], bins=bin_edges)\n",
        "\n",
        "# Create a histogram dataframe\n",
        "histogram_df = sorted_songs_df['duration_interval'].value_counts().sort_index().reset_index()\n",
        "histogram_df.columns = ['Duration Interval (min)', 'Frequency']\n",
        "\n",
        "# Print the histogram dataframe\n",
        "display(histogram_df)"
      ]
    },
    {
      "cell_type": "code",
      "execution_count": null,
      "id": "9812707e",
      "metadata": {
        "execution": {
          "iopub.execute_input": "2024-03-26T17:01:26.290649Z",
          "iopub.status.busy": "2024-03-26T17:01:26.290233Z",
          "iopub.status.idle": "2024-03-26T17:01:26.314943Z",
          "shell.execute_reply": "2024-03-26T17:01:26.313778Z"
        },
        "papermill": {
          "duration": 0.042686,
          "end_time": "2024-03-26T17:01:26.318128",
          "exception": false,
          "start_time": "2024-03-26T17:01:26.275442",
          "status": "completed"
        },
        "tags": [],
        "id": "9812707e",
        "outputId": "f40c3b27-db49-461f-86bb-6ae346726639",
        "colab": {
          "base_uri": "https://localhost:8080/",
          "height": 81
        }
      },
      "outputs": [
        {
          "output_type": "display_data",
          "data": {
            "text/plain": [
              "                                 track_name     artists          album_name  \\\n",
              "4339  Shine On You Crazy Diamond (Pts. 1-5)  Pink Floyd  Wish You Were Here   \n",
              "\n",
              "     track_genre  duration_min  \n",
              "4339  psych-rock      13.51795  "
            ],
            "text/html": [
              "\n",
              "  <div id=\"df-e80e0cba-e9ca-4c59-a8ec-a094fa04fce3\" class=\"colab-df-container\">\n",
              "    <div>\n",
              "<style scoped>\n",
              "    .dataframe tbody tr th:only-of-type {\n",
              "        vertical-align: middle;\n",
              "    }\n",
              "\n",
              "    .dataframe tbody tr th {\n",
              "        vertical-align: top;\n",
              "    }\n",
              "\n",
              "    .dataframe thead th {\n",
              "        text-align: right;\n",
              "    }\n",
              "</style>\n",
              "<table border=\"1\" class=\"dataframe\">\n",
              "  <thead>\n",
              "    <tr style=\"text-align: right;\">\n",
              "      <th></th>\n",
              "      <th>track_name</th>\n",
              "      <th>artists</th>\n",
              "      <th>album_name</th>\n",
              "      <th>track_genre</th>\n",
              "      <th>duration_min</th>\n",
              "    </tr>\n",
              "  </thead>\n",
              "  <tbody>\n",
              "    <tr>\n",
              "      <th>4339</th>\n",
              "      <td>Shine On You Crazy Diamond (Pts. 1-5)</td>\n",
              "      <td>Pink Floyd</td>\n",
              "      <td>Wish You Were Here</td>\n",
              "      <td>psych-rock</td>\n",
              "      <td>13.51795</td>\n",
              "    </tr>\n",
              "  </tbody>\n",
              "</table>\n",
              "</div>\n",
              "    <div class=\"colab-df-buttons\">\n",
              "\n",
              "  <div class=\"colab-df-container\">\n",
              "    <button class=\"colab-df-convert\" onclick=\"convertToInteractive('df-e80e0cba-e9ca-4c59-a8ec-a094fa04fce3')\"\n",
              "            title=\"Convert this dataframe to an interactive table.\"\n",
              "            style=\"display:none;\">\n",
              "\n",
              "  <svg xmlns=\"http://www.w3.org/2000/svg\" height=\"24px\" viewBox=\"0 -960 960 960\">\n",
              "    <path d=\"M120-120v-720h720v720H120Zm60-500h600v-160H180v160Zm220 220h160v-160H400v160Zm0 220h160v-160H400v160ZM180-400h160v-160H180v160Zm440 0h160v-160H620v160ZM180-180h160v-160H180v160Zm440 0h160v-160H620v160Z\"/>\n",
              "  </svg>\n",
              "    </button>\n",
              "\n",
              "  <style>\n",
              "    .colab-df-container {\n",
              "      display:flex;\n",
              "      gap: 12px;\n",
              "    }\n",
              "\n",
              "    .colab-df-convert {\n",
              "      background-color: #E8F0FE;\n",
              "      border: none;\n",
              "      border-radius: 50%;\n",
              "      cursor: pointer;\n",
              "      display: none;\n",
              "      fill: #1967D2;\n",
              "      height: 32px;\n",
              "      padding: 0 0 0 0;\n",
              "      width: 32px;\n",
              "    }\n",
              "\n",
              "    .colab-df-convert:hover {\n",
              "      background-color: #E2EBFA;\n",
              "      box-shadow: 0px 1px 2px rgba(60, 64, 67, 0.3), 0px 1px 3px 1px rgba(60, 64, 67, 0.15);\n",
              "      fill: #174EA6;\n",
              "    }\n",
              "\n",
              "    .colab-df-buttons div {\n",
              "      margin-bottom: 4px;\n",
              "    }\n",
              "\n",
              "    [theme=dark] .colab-df-convert {\n",
              "      background-color: #3B4455;\n",
              "      fill: #D2E3FC;\n",
              "    }\n",
              "\n",
              "    [theme=dark] .colab-df-convert:hover {\n",
              "      background-color: #434B5C;\n",
              "      box-shadow: 0px 1px 3px 1px rgba(0, 0, 0, 0.15);\n",
              "      filter: drop-shadow(0px 1px 2px rgba(0, 0, 0, 0.3));\n",
              "      fill: #FFFFFF;\n",
              "    }\n",
              "  </style>\n",
              "\n",
              "    <script>\n",
              "      const buttonEl =\n",
              "        document.querySelector('#df-e80e0cba-e9ca-4c59-a8ec-a094fa04fce3 button.colab-df-convert');\n",
              "      buttonEl.style.display =\n",
              "        google.colab.kernel.accessAllowed ? 'block' : 'none';\n",
              "\n",
              "      async function convertToInteractive(key) {\n",
              "        const element = document.querySelector('#df-e80e0cba-e9ca-4c59-a8ec-a094fa04fce3');\n",
              "        const dataTable =\n",
              "          await google.colab.kernel.invokeFunction('convertToInteractive',\n",
              "                                                    [key], {});\n",
              "        if (!dataTable) return;\n",
              "\n",
              "        const docLinkHtml = 'Like what you see? Visit the ' +\n",
              "          '<a target=\"_blank\" href=https://colab.research.google.com/notebooks/data_table.ipynb>data table notebook</a>'\n",
              "          + ' to learn more about interactive tables.';\n",
              "        element.innerHTML = '';\n",
              "        dataTable['output_type'] = 'display_data';\n",
              "        await google.colab.output.renderOutput(dataTable, element);\n",
              "        const docLink = document.createElement('div');\n",
              "        docLink.innerHTML = docLinkHtml;\n",
              "        element.appendChild(docLink);\n",
              "      }\n",
              "    </script>\n",
              "  </div>\n",
              "\n",
              "\n",
              "    </div>\n",
              "  </div>\n"
            ],
            "application/vnd.google.colaboratory.intrinsic+json": {
              "type": "dataframe",
              "summary": "{\n  \"name\": \"display(duration_outliers[['track_name', 'artists', 'album_name', 'track_genre', 'duration_min']])\",\n  \"rows\": 1,\n  \"fields\": [\n    {\n      \"column\": \"track_name\",\n      \"properties\": {\n        \"dtype\": \"string\",\n        \"num_unique_values\": 1,\n        \"samples\": [\n          \"Shine On You Crazy Diamond (Pts. 1-5)\"\n        ],\n        \"semantic_type\": \"\",\n        \"description\": \"\"\n      }\n    },\n    {\n      \"column\": \"artists\",\n      \"properties\": {\n        \"dtype\": \"string\",\n        \"num_unique_values\": 1,\n        \"samples\": [\n          \"Pink Floyd\"\n        ],\n        \"semantic_type\": \"\",\n        \"description\": \"\"\n      }\n    },\n    {\n      \"column\": \"album_name\",\n      \"properties\": {\n        \"dtype\": \"string\",\n        \"num_unique_values\": 1,\n        \"samples\": [\n          \"Wish You Were Here\"\n        ],\n        \"semantic_type\": \"\",\n        \"description\": \"\"\n      }\n    },\n    {\n      \"column\": \"track_genre\",\n      \"properties\": {\n        \"dtype\": \"string\",\n        \"num_unique_values\": 1,\n        \"samples\": [\n          \"psych-rock\"\n        ],\n        \"semantic_type\": \"\",\n        \"description\": \"\"\n      }\n    },\n    {\n      \"column\": \"duration_min\",\n      \"properties\": {\n        \"dtype\": \"number\",\n        \"std\": null,\n        \"min\": 13.51795,\n        \"max\": 13.51795,\n        \"num_unique_values\": 1,\n        \"samples\": [\n          13.51795\n        ],\n        \"semantic_type\": \"\",\n        \"description\": \"\"\n      }\n    }\n  ]\n}"
            }
          },
          "metadata": {}
        }
      ],
      "source": [
        "# Filter songs with duration over 10 minutes or below 1 minute\n",
        "duration_outliers = sorted_songs_df[(sorted_songs_df['duration_min'] > 12) | (sorted_songs_df['duration_min'] < 0.5)]\n",
        "\n",
        "# Print the songs with duration over 10 minutes or below 1 minute\n",
        "display(duration_outliers[['track_name', 'artists', 'album_name', 'track_genre', 'duration_min']])"
      ]
    },
    {
      "cell_type": "code",
      "execution_count": null,
      "id": "06940436",
      "metadata": {
        "execution": {
          "iopub.execute_input": "2024-03-26T17:01:26.348196Z",
          "iopub.status.busy": "2024-03-26T17:01:26.346420Z",
          "iopub.status.idle": "2024-03-26T17:01:26.788271Z",
          "shell.execute_reply": "2024-03-26T17:01:26.785495Z"
        },
        "papermill": {
          "duration": 0.459951,
          "end_time": "2024-03-26T17:01:26.791359",
          "exception": false,
          "start_time": "2024-03-26T17:01:26.331408",
          "status": "completed"
        },
        "tags": [],
        "colab": {
          "base_uri": "https://localhost:8080/",
          "height": 671
        },
        "id": "06940436",
        "outputId": "afd825b9-d1bf-4795-d157-cbf4623a6244"
      },
      "outputs": [
        {
          "output_type": "display_data",
          "data": {
            "text/plain": [
              "<Figure size 1600x800 with 1 Axes>"
            ],
            "image/png": "[encoded data removed]"
          },
          "metadata": {}
        }
      ],
      "source": [
        "import matplotlib.pyplot as plt\n",
        "\n",
        "# Get the top 10 genres by frequency\n",
        "top_genres = sorted_songs_df['track_genre'].value_counts().head(10)\n",
        "\n",
        "# Plot a bar chart\n",
        "plt.figure(figsize=(16, 8))\n",
        "top_genres.plot(kind='bar', color='skyblue')\n",
        "plt.xlabel('Genre')\n",
        "plt.ylabel('Frequency')\n",
        "plt.title('Top 10 Genres by Frequency')\n",
        "plt.xticks(rotation=45, ha='right')\n",
        "plt.show()"
      ]
    },
    {
      "cell_type": "code",
      "source": [
        "sorted_songs_df.shape"
      ],
      "metadata": {
        "colab": {
          "base_uri": "https://localhost:8080/"
        },
        "id": "bE65EmkeSeaz",
        "outputId": "bc740025-b069-4739-e49f-2564d0f8080b"
      },
      "id": "bE65EmkeSeaz",
      "execution_count": null,
      "outputs": [
        {
          "output_type": "execute_result",
          "data": {
            "text/plain": [
              "(5000, 24)"
            ]
          },
          "metadata": {},
          "execution_count": 226
        }
      ]
    },
    {
      "cell_type": "markdown",
      "id": "d8039e18",
      "metadata": {
        "papermill": {
          "duration": 0.014735,
          "end_time": "2024-03-26T17:01:26.938901",
          "exception": false,
          "start_time": "2024-03-26T17:01:26.924166",
          "status": "completed"
        },
        "tags": [],
        "id": "d8039e18"
      },
      "source": [
        "### Features Engineering"
      ]
    },
    {
      "cell_type": "code",
      "execution_count": null,
      "id": "88636edf",
      "metadata": {
        "execution": {
          "iopub.execute_input": "2024-03-26T17:01:26.983937Z",
          "iopub.status.busy": "2024-03-26T17:01:26.982470Z",
          "iopub.status.idle": "2024-03-26T17:01:44.314324Z",
          "shell.execute_reply": "2024-03-26T17:01:44.312768Z"
        },
        "papermill": {
          "duration": 17.359503,
          "end_time": "2024-03-26T17:01:44.317277",
          "exception": false,
          "start_time": "2024-03-26T17:01:26.957774",
          "status": "completed"
        },
        "tags": [],
        "colab": {
          "base_uri": "https://localhost:8080/"
        },
        "id": "88636edf",
        "outputId": "2ccf238c-1523-4a66-8378-cf85d0e4326d"
      },
      "outputs": [
        {
          "output_type": "stream",
          "name": "stdout",
          "text": [
            "Collecting fasttext\n",
            "  Downloading fasttext-0.9.2.tar.gz (68 kB)\n",
            "\u001b[2K     \u001b[90m━━━━━━━━━━━━━━━━━━━━━━━━━━━━━━━━━━━━━━━━\u001b[0m \u001b[32m68.8/68.8 kB\u001b[0m \u001b[31m1.6 MB/s\u001b[0m eta \u001b[36m0:00:00\u001b[0m\n",
            "\u001b[?25h  Preparing metadata (setup.py) ... \u001b[?25l\u001b[?25hdone\n",
            "Collecting pybind11>=2.2 (from fasttext)\n",
            "  Using cached pybind11-2.12.0-py3-none-any.whl (234 kB)\n",
            "Requirement already satisfied: setuptools>=0.7.0 in /usr/local/lib/python3.10/dist-packages (from fasttext) (67.7.2)\n",
            "Requirement already satisfied: numpy in /usr/local/lib/python3.10/dist-packages (from fasttext) (1.25.2)\n",
            "Building wheels for collected packages: fasttext\n",
            "  Building wheel for fasttext (setup.py) ... \u001b[?25l\u001b[?25hdone\n",
            "  Created wheel for fasttext: filename=fasttext-0.9.2-cp310-cp310-linux_x86_64.whl size=4227139 sha256=b05f94502a68b6cdb4ddaa4c06b6659c4abef7772d6516851d5f5e8c6ec95c1b\n",
            "  Stored in directory: /root/.cache/pip/wheels/a5/13/75/f811c84a8ab36eedbaef977a6a58a98990e8e0f1967f98f394\n",
            "Successfully built fasttext\n",
            "Installing collected packages: pybind11, fasttext\n",
            "Successfully installed fasttext-0.9.2 pybind11-2.12.0\n"
          ]
        }
      ],
      "source": [
        "!pip install fasttext"
      ]
    },
    {
      "cell_type": "code",
      "execution_count": null,
      "id": "755a7586",
      "metadata": {
        "execution": {
          "iopub.execute_input": "2024-03-26T17:01:44.348310Z",
          "iopub.status.busy": "2024-03-26T17:01:44.347852Z",
          "iopub.status.idle": "2024-03-26T17:02:27.579604Z",
          "shell.execute_reply": "2024-03-26T17:02:27.578186Z"
        },
        "papermill": {
          "duration": 43.250816,
          "end_time": "2024-03-26T17:02:27.582381",
          "exception": false,
          "start_time": "2024-03-26T17:01:44.331565",
          "status": "completed"
        },
        "tags": [],
        "id": "755a7586"
      },
      "outputs": [],
      "source": [
        "import fasttext\n",
        "\n",
        "# Combine the text columns into a single string for each row and save to a text file\n",
        "text_data = sorted_songs_df['artists'] + ' ' + sorted_songs_df['track_name'] + ' ' + sorted_songs_df['album_name'] + ' ' + sorted_songs_df['track_genre']\n",
        "text_data.to_csv('text_data.txt', index=False, header=False)\n",
        "\n",
        "\n",
        "# Train the fastText model on the text data\n",
        "\n",
        "model = fasttext.train_unsupervised('text_data.txt', model='skipgram')"
      ]
    },
    {
      "cell_type": "code",
      "execution_count": null,
      "id": "d0f8eb74",
      "metadata": {
        "execution": {
          "iopub.execute_input": "2024-03-26T17:02:27.640337Z",
          "iopub.status.busy": "2024-03-26T17:02:27.639909Z",
          "iopub.status.idle": "2024-03-26T17:02:27.646614Z",
          "shell.execute_reply": "2024-03-26T17:02:27.645353Z"
        },
        "papermill": {
          "duration": 0.0384,
          "end_time": "2024-03-26T17:02:27.649023",
          "exception": false,
          "start_time": "2024-03-26T17:02:27.610623",
          "status": "completed"
        },
        "tags": [],
        "id": "d0f8eb74"
      },
      "outputs": [],
      "source": [
        "def get_mean_embedding(words_list, model):\n",
        "    embeddings = [model.get_word_vector(word) for word in words_list]\n",
        "    mean_embedding = np.mean(embeddings, axis=0)\n",
        "    return mean_embedding\n",
        "\n",
        "# Function to handle multiple artists and get their mean embedding\n",
        "def get_artists_embedding(artists, model):\n",
        "    # Split the artists string into individual artists\n",
        "    artists_list = artists.split(';')\n",
        "    # Get the mean embedding for the list of artists\n",
        "    return get_mean_embedding(artists_list, model)"
      ]
    },
    {
      "cell_type": "code",
      "execution_count": null,
      "id": "dff99148",
      "metadata": {
        "execution": {
          "iopub.execute_input": "2024-03-26T17:02:27.707960Z",
          "iopub.status.busy": "2024-03-26T17:02:27.707127Z",
          "iopub.status.idle": "2024-03-26T17:02:28.015484Z",
          "shell.execute_reply": "2024-03-26T17:02:28.014227Z"
        },
        "papermill": {
          "duration": 0.341594,
          "end_time": "2024-03-26T17:02:28.018425",
          "exception": false,
          "start_time": "2024-03-26T17:02:27.676831",
          "status": "completed"
        },
        "tags": [],
        "id": "dff99148"
      },
      "outputs": [],
      "source": [
        "from sklearn.preprocessing import StandardScaler\n",
        "\n",
        "def get_track_embedding(track, model):\n",
        "    # Get the embeddings as before\n",
        "    artists_embedding = get_artists_embedding(track['artists'], model)\n",
        "    track_name_embedding = get_mean_embedding(track['track_name'].split(), model)\n",
        "    album_name_embedding = get_mean_embedding(track['album_name'].split(), model)\n",
        "    track_genre_embedding = get_mean_embedding(track['track_genre'].split(), model)\n",
        "\n",
        "    # Get the numerical features\n",
        "    numerical_features = np.array([track['popularity'], track['duration_ms'], track['danceability'], track['loudness'], track['energy'], track['speechiness'], track['instrumentalness'], track['liveness'], track['valence'], track['tempo']])\n",
        "\n",
        "\n",
        "\n",
        "    # Normalize the numerical features to have the same scale as the embeddings\n",
        "    # This step is important to ensure that the numerical features do not dominate the embeddings\n",
        "    scaler = StandardScaler()\n",
        "    normalized_numerical_features = scaler.fit_transform(numerical_features.reshape(-1, 1))\n",
        "\n",
        "    # Flatten the normalized numerical features to 1D\n",
        "    normalized_numerical_features = normalized_numerical_features.flatten()\n",
        "\n",
        "    # Concatenate the embeddings and the numerical features\n",
        "    final_embedding = artists_embedding + track_name_embedding + album_name_embedding + track_genre_embedding\n",
        "    final_embedding = np.concatenate([final_embedding, normalized_numerical_features])\n",
        "\n",
        "    return final_embedding"
      ]
    },
    {
      "cell_type": "code",
      "execution_count": null,
      "id": "dad5ae9a",
      "metadata": {
        "execution": {
          "iopub.execute_input": "2024-03-26T17:02:28.077209Z",
          "iopub.status.busy": "2024-03-26T17:02:28.076802Z",
          "iopub.status.idle": "2024-03-26T17:03:53.340059Z",
          "shell.execute_reply": "2024-03-26T17:03:53.338734Z"
        },
        "papermill": {
          "duration": 85.296431,
          "end_time": "2024-03-26T17:03:53.343303",
          "exception": false,
          "start_time": "2024-03-26T17:02:28.046872",
          "status": "completed"
        },
        "tags": [],
        "id": "dad5ae9a"
      },
      "outputs": [],
      "source": [
        "# Calculate embeddings for all tracks\n",
        "sorted_songs_df['embedding'] = sorted_songs_df.apply(lambda x: get_track_embedding(x, model), axis=1)"
      ]
    },
    {
      "cell_type": "code",
      "execution_count": null,
      "id": "deaa5ceb",
      "metadata": {
        "execution": {
          "iopub.execute_input": "2024-03-26T17:03:53.401854Z",
          "iopub.status.busy": "2024-03-26T17:03:53.401446Z",
          "iopub.status.idle": "2024-03-26T17:03:53.412458Z",
          "shell.execute_reply": "2024-03-26T17:03:53.411304Z"
        },
        "papermill": {
          "duration": 0.043206,
          "end_time": "2024-03-26T17:03:53.415027",
          "exception": false,
          "start_time": "2024-03-26T17:03:53.371821",
          "status": "completed"
        },
        "tags": [],
        "colab": {
          "base_uri": "https://localhost:8080/"
        },
        "id": "deaa5ceb",
        "outputId": "78946b90-1813-4e25-9f16-d9c7a01df100"
      },
      "outputs": [
        {
          "output_type": "execute_result",
          "data": {
            "text/plain": [
              "110"
            ]
          },
          "metadata": {},
          "execution_count": 47
        }
      ],
      "source": [
        "len(sorted_songs_df['embedding'][0])"
      ]
    },
    {
      "cell_type": "code",
      "source": [
        "!pip install annoy"
      ],
      "metadata": {
        "colab": {
          "base_uri": "https://localhost:8080/"
        },
        "id": "6J1E_1Wn6zFN",
        "outputId": "bd71d3cb-49dd-4b93-a81f-c80aa0baa92f"
      },
      "id": "6J1E_1Wn6zFN",
      "execution_count": null,
      "outputs": [
        {
          "output_type": "stream",
          "name": "stdout",
          "text": [
            "Collecting annoy\n",
            "  Downloading annoy-1.17.3.tar.gz (647 kB)\n",
            "\u001b[?25l     \u001b[90m━━━━━━━━━━━━━━━━━━━━━━━━━━━━━━━━━━━━━━━━\u001b[0m \u001b[32m0.0/647.5 kB\u001b[0m \u001b[31m?\u001b[0m eta \u001b[36m-:--:--\u001b[0m\r\u001b[2K     \u001b[91m━━━━━━━━━━\u001b[0m\u001b[90m╺\u001b[0m\u001b[90m━━━━━━━━━━━━━━━━━━━━━━━━━━━━━\u001b[0m \u001b[32m163.8/647.5 kB\u001b[0m \u001b[31m4.9 MB/s\u001b[0m eta \u001b[36m0:00:01\u001b[0m\r\u001b[2K     \u001b[91m━━━━━━━━━━━━━━━━━━━━━━━━━━━━━━━━━━\u001b[0m\u001b[91m╸\u001b[0m\u001b[90m━━━━━\u001b[0m \u001b[32m563.2/647.5 kB\u001b[0m \u001b[31m8.1 MB/s\u001b[0m eta \u001b[36m0:00:01\u001b[0m\r\u001b[2K     \u001b[90m━━━━━━━━━━━━━━━━━━━━━━━━━━━━━━━━━━━━━━━━\u001b[0m \u001b[32m647.5/647.5 kB\u001b[0m \u001b[31m7.2 MB/s\u001b[0m eta \u001b[36m0:00:00\u001b[0m\n",
            "\u001b[?25h  Preparing metadata (setup.py) ... \u001b[?25l\u001b[?25hdone\n",
            "Building wheels for collected packages: annoy\n",
            "  Building wheel for annoy (setup.py) ... \u001b[?25l\u001b[?25hdone\n",
            "  Created wheel for annoy: filename=annoy-1.17.3-cp310-cp310-linux_x86_64.whl size=552451 sha256=b0b882e838da7b92a32faf9c0651b6f459388a3cf3a8af85a67fe3d611a6c08d\n",
            "  Stored in directory: /root/.cache/pip/wheels/64/8a/da/f714bcf46c5efdcfcac0559e63370c21abe961c48e3992465a\n",
            "Successfully built annoy\n",
            "Installing collected packages: annoy\n",
            "Successfully installed annoy-1.17.3\n"
          ]
        }
      ]
    },
    {
      "cell_type": "code",
      "execution_count": null,
      "id": "8019b707",
      "metadata": {
        "execution": {
          "iopub.execute_input": "2024-03-26T17:03:53.472957Z",
          "iopub.status.busy": "2024-03-26T17:03:53.472523Z",
          "iopub.status.idle": "2024-03-26T17:04:02.550074Z",
          "shell.execute_reply": "2024-03-26T17:04:02.548219Z"
        },
        "papermill": {
          "duration": 9.109462,
          "end_time": "2024-03-26T17:04:02.552722",
          "exception": false,
          "start_time": "2024-03-26T17:03:53.443260",
          "status": "completed"
        },
        "tags": [],
        "colab": {
          "base_uri": "https://localhost:8080/"
        },
        "id": "8019b707",
        "outputId": "a13eee93-0152-4b77-94c7-22b0f51f0dbc"
      },
      "outputs": [
        {
          "output_type": "execute_result",
          "data": {
            "text/plain": [
              "True"
            ]
          },
          "metadata": {},
          "execution_count": 231
        }
      ],
      "source": [
        "from annoy import AnnoyIndex\n",
        "\n",
        "# Initialize the Annoy Index based on length of embeddings with cosine as measure for neighbours\n",
        "t = AnnoyIndex(len(sorted_songs_df['embedding'][0]), 'angular')\n",
        "\n",
        "# Build the Annoy index\n",
        "for i, row in sorted_songs_df.iterrows():\n",
        "    t.add_item(i, row['embedding'])\n",
        "\n",
        "# Build the index, 10 trees are being used in this example\n",
        "t.build(10)"
      ]
    },
    {
      "cell_type": "code",
      "execution_count": null,
      "id": "a98fd250",
      "metadata": {
        "execution": {
          "iopub.execute_input": "2024-03-26T17:04:02.612744Z",
          "iopub.status.busy": "2024-03-26T17:04:02.612343Z",
          "iopub.status.idle": "2024-03-26T17:04:02.792472Z",
          "shell.execute_reply": "2024-03-26T17:04:02.791502Z"
        },
        "papermill": {
          "duration": 0.213318,
          "end_time": "2024-03-26T17:04:02.796157",
          "exception": false,
          "start_time": "2024-03-26T17:04:02.582839",
          "status": "completed"
        },
        "tags": [],
        "id": "a98fd250"
      },
      "outputs": [],
      "source": [
        "sorted_songs_df[sorted_songs_df['artists'].str.contains('BLACK')]"
      ]
    },
    {
      "cell_type": "code",
      "source": [
        "def knn_based_recommendations(index):\n",
        "\n",
        "  if index >=5000:\n",
        "    return []\n",
        "\n",
        "\n",
        "  # Get the embedding of the random track\n",
        "  random_track_embedding = sorted_songs_df.loc[index, 'embedding']\n",
        "\n",
        "  # Find the 10 nearest neighbors to the random track\n",
        "  nearest_neighbors_indices = t.get_nns_by_vector(random_track_embedding, 10)\n",
        "\n",
        "  # Get the details of the recommended tracks\n",
        "  recommended_tracks = sorted_songs_df.loc[nearest_neighbors_indices]\n",
        "\n",
        "  return list(recommended_tracks['SongID'])\n",
        "\n",
        "\n"
      ],
      "metadata": {
        "id": "BYNIrWNNpzZ1"
      },
      "id": "BYNIrWNNpzZ1",
      "execution_count": null,
      "outputs": []
    },
    {
      "cell_type": "code",
      "source": [
        "def build_knn_map():\n",
        "  knn_map_for_all_SongIDs= {}\n",
        "  for SongID in range(len(sorted_songs_df['SongID'])):\n",
        "    knn_map_for_all_SongIDs[SongID] = knn_based_recommendations(SongID)\n",
        "\n",
        "\n",
        "  return knn_map_for_all_SongIDs\n",
        "\n"
      ],
      "metadata": {
        "id": "LRyY5dCwh9AL"
      },
      "id": "LRyY5dCwh9AL",
      "execution_count": null,
      "outputs": []
    },
    {
      "cell_type": "code",
      "source": [
        "index = 5\n",
        "print(knn_based_recommendations(5))"
      ],
      "metadata": {
        "colab": {
          "base_uri": "https://localhost:8080/"
        },
        "id": "zr-nkW9jiogO",
        "outputId": "7f188677-4baf-40e0-bd65-d4ebf18001ea"
      },
      "id": "zr-nkW9jiogO",
      "execution_count": null,
      "outputs": [
        {
          "output_type": "stream",
          "name": "stdout",
          "text": [
            "[5, 36, 4, 11, 301, 108, 155, 6, 124, 170]\n"
          ]
        }
      ]
    },
    {
      "cell_type": "code",
      "source": [
        "knn_map_for_all_SongIDs = build_knn_map()"
      ],
      "metadata": {
        "id": "v6Woywi_itmA"
      },
      "id": "v6Woywi_itmA",
      "execution_count": null,
      "outputs": []
    },
    {
      "cell_type": "code",
      "source": [
        "knn_map_for_all_SongIDs[5]"
      ],
      "metadata": {
        "colab": {
          "base_uri": "https://localhost:8080/"
        },
        "id": "oQLDs_NtizM8",
        "outputId": "3d572c76-3bac-4c37-857b-c44c6799a605"
      },
      "id": "oQLDs_NtizM8",
      "execution_count": null,
      "outputs": [
        {
          "output_type": "execute_result",
          "data": {
            "text/plain": [
              "[5, 36, 4, 11, 301, 108, 155, 6, 124, 170]"
            ]
          },
          "metadata": {},
          "execution_count": 314
        }
      ]
    },
    {
      "cell_type": "code",
      "source": [
        "ratings_df.head()\n",
        "ratings_df['user_id'] = ratings_df.index\n",
        "ratings_df.set_index(['user_id'],inplace=True)\n",
        "ratings_df.drop(['Unnamed: 0'],axis=1,inplace=True)"
      ],
      "metadata": {
        "id": "S6vkncWBO4iB"
      },
      "id": "S6vkncWBO4iB",
      "execution_count": null,
      "outputs": []
    },
    {
      "cell_type": "code",
      "source": [
        "ratings_df.head()"
      ],
      "metadata": {
        "colab": {
          "base_uri": "https://localhost:8080/",
          "height": 267
        },
        "id": "z-s5bAV6Fkwu",
        "outputId": "cc6025da-9659-4f96-dec5-1171d8ab99b5"
      },
      "id": "z-s5bAV6Fkwu",
      "execution_count": null,
      "outputs": [
        {
          "output_type": "execute_result",
          "data": {
            "text/plain": [
              "         0     1     2     3     4     5     6     7     8     9     ...  \\\n",
              "user_id                                                              ...   \n",
              "0           4     5     4     0     3     3     3     5     3     0  ...   \n",
              "1           5     5     4     3     1     1     3     0     2     2  ...   \n",
              "2           5     4     4     3     3     1     0     5     1     2  ...   \n",
              "3           4     5     4     1     3     1     2     4     0     3  ...   \n",
              "4           4     5     5     2     3     1     2     4     2     2  ...   \n",
              "\n",
              "         5250  5243  5244  5245  5246  5247  5248  5249  5251  5260  \n",
              "user_id                                                              \n",
              "0           5     5     4     4     0     0     0     4     4     4  \n",
              "1           5     4     4     5     0     5     5     5     5     5  \n",
              "2           5     4     5     4     1     1     5     5     4     0  \n",
              "3           4     4     5     5     4     4     4     4     5     4  \n",
              "4           5     4     5     4     5     5     0     0     5     4  \n",
              "\n",
              "[5 rows x 5000 columns]"
            ],
            "text/html": [
              "\n",
              "  <div id=\"df-67a53a0a-7fa4-4915-9fb6-9c69174adbeb\" class=\"colab-df-container\">\n",
              "    <div>\n",
              "<style scoped>\n",
              "    .dataframe tbody tr th:only-of-type {\n",
              "        vertical-align: middle;\n",
              "    }\n",
              "\n",
              "    .dataframe tbody tr th {\n",
              "        vertical-align: top;\n",
              "    }\n",
              "\n",
              "    .dataframe thead th {\n",
              "        text-align: right;\n",
              "    }\n",
              "</style>\n",
              "<table border=\"1\" class=\"dataframe\">\n",
              "  <thead>\n",
              "    <tr style=\"text-align: right;\">\n",
              "      <th></th>\n",
              "      <th>0</th>\n",
              "      <th>1</th>\n",
              "      <th>2</th>\n",
              "      <th>3</th>\n",
              "      <th>4</th>\n",
              "      <th>5</th>\n",
              "      <th>6</th>\n",
              "      <th>7</th>\n",
              "      <th>8</th>\n",
              "      <th>9</th>\n",
              "      <th>...</th>\n",
              "      <th>5250</th>\n",
              "      <th>5243</th>\n",
              "      <th>5244</th>\n",
              "      <th>5245</th>\n",
              "      <th>5246</th>\n",
              "      <th>5247</th>\n",
              "      <th>5248</th>\n",
              "      <th>5249</th>\n",
              "      <th>5251</th>\n",
              "      <th>5260</th>\n",
              "    </tr>\n",
              "    <tr>\n",
              "      <th>user_id</th>\n",
              "      <th></th>\n",
              "      <th></th>\n",
              "      <th></th>\n",
              "      <th></th>\n",
              "      <th></th>\n",
              "      <th></th>\n",
              "      <th></th>\n",
              "      <th></th>\n",
              "      <th></th>\n",
              "      <th></th>\n",
              "      <th></th>\n",
              "      <th></th>\n",
              "      <th></th>\n",
              "      <th></th>\n",
              "      <th></th>\n",
              "      <th></th>\n",
              "      <th></th>\n",
              "      <th></th>\n",
              "      <th></th>\n",
              "      <th></th>\n",
              "      <th></th>\n",
              "    </tr>\n",
              "  </thead>\n",
              "  <tbody>\n",
              "    <tr>\n",
              "      <th>0</th>\n",
              "      <td>4</td>\n",
              "      <td>5</td>\n",
              "      <td>4</td>\n",
              "      <td>0</td>\n",
              "      <td>3</td>\n",
              "      <td>3</td>\n",
              "      <td>3</td>\n",
              "      <td>5</td>\n",
              "      <td>3</td>\n",
              "      <td>0</td>\n",
              "      <td>...</td>\n",
              "      <td>5</td>\n",
              "      <td>5</td>\n",
              "      <td>4</td>\n",
              "      <td>4</td>\n",
              "      <td>0</td>\n",
              "      <td>0</td>\n",
              "      <td>0</td>\n",
              "      <td>4</td>\n",
              "      <td>4</td>\n",
              "      <td>4</td>\n",
              "    </tr>\n",
              "    <tr>\n",
              "      <th>1</th>\n",
              "      <td>5</td>\n",
              "      <td>5</td>\n",
              "      <td>4</td>\n",
              "      <td>3</td>\n",
              "      <td>1</td>\n",
              "      <td>1</td>\n",
              "      <td>3</td>\n",
              "      <td>0</td>\n",
              "      <td>2</td>\n",
              "      <td>2</td>\n",
              "      <td>...</td>\n",
              "      <td>5</td>\n",
              "      <td>4</td>\n",
              "      <td>4</td>\n",
              "      <td>5</td>\n",
              "      <td>0</td>\n",
              "      <td>5</td>\n",
              "      <td>5</td>\n",
              "      <td>5</td>\n",
              "      <td>5</td>\n",
              "      <td>5</td>\n",
              "    </tr>\n",
              "    <tr>\n",
              "      <th>2</th>\n",
              "      <td>5</td>\n",
              "      <td>4</td>\n",
              "      <td>4</td>\n",
              "      <td>3</td>\n",
              "      <td>3</td>\n",
              "      <td>1</td>\n",
              "      <td>0</td>\n",
              "      <td>5</td>\n",
              "      <td>1</td>\n",
              "      <td>2</td>\n",
              "      <td>...</td>\n",
              "      <td>5</td>\n",
              "      <td>4</td>\n",
              "      <td>5</td>\n",
              "      <td>4</td>\n",
              "      <td>1</td>\n",
              "      <td>1</td>\n",
              "      <td>5</td>\n",
              "      <td>5</td>\n",
              "      <td>4</td>\n",
              "      <td>0</td>\n",
              "    </tr>\n",
              "    <tr>\n",
              "      <th>3</th>\n",
              "      <td>4</td>\n",
              "      <td>5</td>\n",
              "      <td>4</td>\n",
              "      <td>1</td>\n",
              "      <td>3</td>\n",
              "      <td>1</td>\n",
              "      <td>2</td>\n",
              "      <td>4</td>\n",
              "      <td>0</td>\n",
              "      <td>3</td>\n",
              "      <td>...</td>\n",
              "      <td>4</td>\n",
              "      <td>4</td>\n",
              "      <td>5</td>\n",
              "      <td>5</td>\n",
              "      <td>4</td>\n",
              "      <td>4</td>\n",
              "      <td>4</td>\n",
              "      <td>4</td>\n",
              "      <td>5</td>\n",
              "      <td>4</td>\n",
              "    </tr>\n",
              "    <tr>\n",
              "      <th>4</th>\n",
              "      <td>4</td>\n",
              "      <td>5</td>\n",
              "      <td>5</td>\n",
              "      <td>2</td>\n",
              "      <td>3</td>\n",
              "      <td>1</td>\n",
              "      <td>2</td>\n",
              "      <td>4</td>\n",
              "      <td>2</td>\n",
              "      <td>2</td>\n",
              "      <td>...</td>\n",
              "      <td>5</td>\n",
              "      <td>4</td>\n",
              "      <td>5</td>\n",
              "      <td>4</td>\n",
              "      <td>5</td>\n",
              "      <td>5</td>\n",
              "      <td>0</td>\n",
              "      <td>0</td>\n",
              "      <td>5</td>\n",
              "      <td>4</td>\n",
              "    </tr>\n",
              "  </tbody>\n",
              "</table>\n",
              "<p>5 rows × 5000 columns</p>\n",
              "</div>\n",
              "    <div class=\"colab-df-buttons\">\n",
              "\n",
              "  <div class=\"colab-df-container\">\n",
              "    <button class=\"colab-df-convert\" onclick=\"convertToInteractive('df-67a53a0a-7fa4-4915-9fb6-9c69174adbeb')\"\n",
              "            title=\"Convert this dataframe to an interactive table.\"\n",
              "            style=\"display:none;\">\n",
              "\n",
              "  <svg xmlns=\"http://www.w3.org/2000/svg\" height=\"24px\" viewBox=\"0 -960 960 960\">\n",
              "    <path d=\"M120-120v-720h720v720H120Zm60-500h600v-160H180v160Zm220 220h160v-160H400v160Zm0 220h160v-160H400v160ZM180-400h160v-160H180v160Zm440 0h160v-160H620v160ZM180-180h160v-160H180v160Zm440 0h160v-160H620v160Z\"/>\n",
              "  </svg>\n",
              "    </button>\n",
              "\n",
              "  <style>\n",
              "    .colab-df-container {\n",
              "      display:flex;\n",
              "      gap: 12px;\n",
              "    }\n",
              "\n",
              "    .colab-df-convert {\n",
              "      background-color: #E8F0FE;\n",
              "      border: none;\n",
              "      border-radius: 50%;\n",
              "      cursor: pointer;\n",
              "      display: none;\n",
              "      fill: #1967D2;\n",
              "      height: 32px;\n",
              "      padding: 0 0 0 0;\n",
              "      width: 32px;\n",
              "    }\n",
              "\n",
              "    .colab-df-convert:hover {\n",
              "      background-color: #E2EBFA;\n",
              "      box-shadow: 0px 1px 2px rgba(60, 64, 67, 0.3), 0px 1px 3px 1px rgba(60, 64, 67, 0.15);\n",
              "      fill: #174EA6;\n",
              "    }\n",
              "\n",
              "    .colab-df-buttons div {\n",
              "      margin-bottom: 4px;\n",
              "    }\n",
              "\n",
              "    [theme=dark] .colab-df-convert {\n",
              "      background-color: #3B4455;\n",
              "      fill: #D2E3FC;\n",
              "    }\n",
              "\n",
              "    [theme=dark] .colab-df-convert:hover {\n",
              "      background-color: #434B5C;\n",
              "      box-shadow: 0px 1px 3px 1px rgba(0, 0, 0, 0.15);\n",
              "      filter: drop-shadow(0px 1px 2px rgba(0, 0, 0, 0.3));\n",
              "      fill: #FFFFFF;\n",
              "    }\n",
              "  </style>\n",
              "\n",
              "    <script>\n",
              "      const buttonEl =\n",
              "        document.querySelector('#df-67a53a0a-7fa4-4915-9fb6-9c69174adbeb button.colab-df-convert');\n",
              "      buttonEl.style.display =\n",
              "        google.colab.kernel.accessAllowed ? 'block' : 'none';\n",
              "\n",
              "      async function convertToInteractive(key) {\n",
              "        const element = document.querySelector('#df-67a53a0a-7fa4-4915-9fb6-9c69174adbeb');\n",
              "        const dataTable =\n",
              "          await google.colab.kernel.invokeFunction('convertToInteractive',\n",
              "                                                    [key], {});\n",
              "        if (!dataTable) return;\n",
              "\n",
              "        const docLinkHtml = 'Like what you see? Visit the ' +\n",
              "          '<a target=\"_blank\" href=https://colab.research.google.com/notebooks/data_table.ipynb>data table notebook</a>'\n",
              "          + ' to learn more about interactive tables.';\n",
              "        element.innerHTML = '';\n",
              "        dataTable['output_type'] = 'display_data';\n",
              "        await google.colab.output.renderOutput(dataTable, element);\n",
              "        const docLink = document.createElement('div');\n",
              "        docLink.innerHTML = docLinkHtml;\n",
              "        element.appendChild(docLink);\n",
              "      }\n",
              "    </script>\n",
              "  </div>\n",
              "\n",
              "\n",
              "<div id=\"df-a179ee4d-4141-4c20-a6dc-45c84fd7e477\">\n",
              "  <button class=\"colab-df-quickchart\" onclick=\"quickchart('df-a179ee4d-4141-4c20-a6dc-45c84fd7e477')\"\n",
              "            title=\"Suggest charts\"\n",
              "            style=\"display:none;\">\n",
              "\n",
              "<svg xmlns=\"http://www.w3.org/2000/svg\" height=\"24px\"viewBox=\"0 0 24 24\"\n",
              "     width=\"24px\">\n",
              "    <g>\n",
              "        <path d=\"M19 3H5c-1.1 0-2 .9-2 2v14c0 1.1.9 2 2 2h14c1.1 0 2-.9 2-2V5c0-1.1-.9-2-2-2zM9 17H7v-7h2v7zm4 0h-2V7h2v10zm4 0h-2v-4h2v4z\"/>\n",
              "    </g>\n",
              "</svg>\n",
              "  </button>\n",
              "\n",
              "<style>\n",
              "  .colab-df-quickchart {\n",
              "      --bg-color: #E8F0FE;\n",
              "      --fill-color: #1967D2;\n",
              "      --hover-bg-color: #E2EBFA;\n",
              "      --hover-fill-color: #174EA6;\n",
              "      --disabled-fill-color: #AAA;\n",
              "      --disabled-bg-color: #DDD;\n",
              "  }\n",
              "\n",
              "  [theme=dark] .colab-df-quickchart {\n",
              "      --bg-color: #3B4455;\n",
              "      --fill-color: #D2E3FC;\n",
              "      --hover-bg-color: #434B5C;\n",
              "      --hover-fill-color: #FFFFFF;\n",
              "      --disabled-bg-color: #3B4455;\n",
              "      --disabled-fill-color: #666;\n",
              "  }\n",
              "\n",
              "  .colab-df-quickchart {\n",
              "    background-color: var(--bg-color);\n",
              "    border: none;\n",
              "    border-radius: 50%;\n",
              "    cursor: pointer;\n",
              "    display: none;\n",
              "    fill: var(--fill-color);\n",
              "    height: 32px;\n",
              "    padding: 0;\n",
              "    width: 32px;\n",
              "  }\n",
              "\n",
              "  .colab-df-quickchart:hover {\n",
              "    background-color: var(--hover-bg-color);\n",
              "    box-shadow: 0 1px 2px rgba(60, 64, 67, 0.3), 0 1px 3px 1px rgba(60, 64, 67, 0.15);\n",
              "    fill: var(--button-hover-fill-color);\n",
              "  }\n",
              "\n",
              "  .colab-df-quickchart-complete:disabled,\n",
              "  .colab-df-quickchart-complete:disabled:hover {\n",
              "    background-color: var(--disabled-bg-color);\n",
              "    fill: var(--disabled-fill-color);\n",
              "    box-shadow: none;\n",
              "  }\n",
              "\n",
              "  .colab-df-spinner {\n",
              "    border: 2px solid var(--fill-color);\n",
              "    border-color: transparent;\n",
              "    border-bottom-color: var(--fill-color);\n",
              "    animation:\n",
              "      spin 1s steps(1) infinite;\n",
              "  }\n",
              "\n",
              "  @keyframes spin {\n",
              "    0% {\n",
              "      border-color: transparent;\n",
              "      border-bottom-color: var(--fill-color);\n",
              "      border-left-color: var(--fill-color);\n",
              "    }\n",
              "    20% {\n",
              "      border-color: transparent;\n",
              "      border-left-color: var(--fill-color);\n",
              "      border-top-color: var(--fill-color);\n",
              "    }\n",
              "    30% {\n",
              "      border-color: transparent;\n",
              "      border-left-color: var(--fill-color);\n",
              "      border-top-color: var(--fill-color);\n",
              "      border-right-color: var(--fill-color);\n",
              "    }\n",
              "    40% {\n",
              "      border-color: transparent;\n",
              "      border-right-color: var(--fill-color);\n",
              "      border-top-color: var(--fill-color);\n",
              "    }\n",
              "    60% {\n",
              "      border-color: transparent;\n",
              "      border-right-color: var(--fill-color);\n",
              "    }\n",
              "    80% {\n",
              "      border-color: transparent;\n",
              "      border-right-color: var(--fill-color);\n",
              "      border-bottom-color: var(--fill-color);\n",
              "    }\n",
              "    90% {\n",
              "      border-color: transparent;\n",
              "      border-bottom-color: var(--fill-color);\n",
              "    }\n",
              "  }\n",
              "</style>\n",
              "\n",
              "  <script>\n",
              "    async function quickchart(key) {\n",
              "      const quickchartButtonEl =\n",
              "        document.querySelector('#' + key + ' button');\n",
              "      quickchartButtonEl.disabled = true;  // To prevent multiple clicks.\n",
              "      quickchartButtonEl.classList.add('colab-df-spinner');\n",
              "      try {\n",
              "        const charts = await google.colab.kernel.invokeFunction(\n",
              "            'suggestCharts', [key], {});\n",
              "      } catch (error) {\n",
              "        console.error('Error during call to suggestCharts:', error);\n",
              "      }\n",
              "      quickchartButtonEl.classList.remove('colab-df-spinner');\n",
              "      quickchartButtonEl.classList.add('colab-df-quickchart-complete');\n",
              "    }\n",
              "    (() => {\n",
              "      let quickchartButtonEl =\n",
              "        document.querySelector('#df-a179ee4d-4141-4c20-a6dc-45c84fd7e477 button');\n",
              "      quickchartButtonEl.style.display =\n",
              "        google.colab.kernel.accessAllowed ? 'block' : 'none';\n",
              "    })();\n",
              "  </script>\n",
              "</div>\n",
              "\n",
              "    </div>\n",
              "  </div>\n"
            ],
            "application/vnd.google.colaboratory.intrinsic+json": {
              "type": "dataframe",
              "variable_name": "ratings_df"
            }
          },
          "metadata": {},
          "execution_count": 236
        }
      ]
    },
    {
      "cell_type": "code",
      "source": [
        "def get_top_2_rated_SongIDs(ratings_df, ratings_list=[4, 5]):\n",
        "    temp = {}\n",
        "    for user_id, row in ratings_df.iterrows():\n",
        "        temp[user_id] = row[row.isin(ratings_list)].index.tolist()\n",
        "    return temp\n"
      ],
      "metadata": {
        "id": "_2o4Kh-T9HXZ"
      },
      "id": "_2o4Kh-T9HXZ",
      "execution_count": null,
      "outputs": []
    },
    {
      "cell_type": "code",
      "source": [
        "\n",
        "top_2_rated_SongIDs_for_all_users=get_top_2_rated_SongIDs(ratings_df)"
      ],
      "metadata": {
        "id": "nCdKS4O1J9WV"
      },
      "id": "nCdKS4O1J9WV",
      "execution_count": null,
      "outputs": []
    },
    {
      "cell_type": "code",
      "source": [
        "def recommendations_based_on_user_ratings(user_id, ratings_df):\n",
        "  top_2_rated_SongIDs_user = top_2_rated_SongIDs_for_all_users[user_id]\n",
        "  res_rec_SongIDs = []\n",
        "  for song_id in top_2_rated_SongIDs_user:\n",
        "\n",
        "     neighbour_SongIDs = knn_based_recommendations(song_id)\n",
        "\n",
        "\n",
        "\n",
        "     for nei_SongID in neighbour_SongIDs:\n",
        "      if nei_SongID >= 5000:\n",
        "        continue\n",
        "\n",
        "      if ratings_df.iloc[user_id,nei_SongID] == 0:\n",
        "        res_rec_SongIDs.append(nei_SongID)\n",
        "\n",
        "\n",
        "  return res_rec_SongIDs\n"
      ],
      "metadata": {
        "id": "HN2HkNEJ7C1i"
      },
      "id": "HN2HkNEJ7C1i",
      "execution_count": null,
      "outputs": []
    },
    {
      "cell_type": "code",
      "source": [
        "recommended_SongIDs_based_on_user_ratings = recommendations_based_on_user_ratings(100, ratings_df)"
      ],
      "metadata": {
        "id": "xcNTDNpDgVbE"
      },
      "id": "xcNTDNpDgVbE",
      "execution_count": null,
      "outputs": []
    },
    {
      "cell_type": "code",
      "source": [
        "\n",
        "filtered_df = sorted_songs_df[sorted_songs_df['SongID'].isin(recommended_SongIDs_based_on_user_ratings)]\n",
        "\n",
        "# Sort the filtered DataFrame by 'popularity' column in descending order\n",
        "sorted_df = filtered_df.sort_values(by='popularity', ascending=False)\n",
        "\n",
        "# Take the top 5 rows\n",
        "top_5_popular_songs = sorted_df.head(5)\n",
        "\n",
        "top_5_song_ids = top_5_popular_songs['SongID'].tolist()\n",
        "\n",
        "print(top_5_song_ids)\n"
      ],
      "metadata": {
        "colab": {
          "base_uri": "https://localhost:8080/"
        },
        "id": "7D6EZCA1gvdX",
        "outputId": "9bc2ee21-d447-412b-fd23-a8200527252e"
      },
      "id": "7D6EZCA1gvdX",
      "execution_count": null,
      "outputs": [
        {
          "output_type": "stream",
          "name": "stdout",
          "text": [
            "[23, 31, 39, 99, 94]\n"
          ]
        }
      ]
    },
    {
      "cell_type": "code",
      "source": [],
      "metadata": {
        "id": "Vi4jgZ9RhYil"
      },
      "id": "Vi4jgZ9RhYil",
      "execution_count": null,
      "outputs": []
    }
  ],
  "metadata": {
    "kaggle": {
      "accelerator": "none",
      "dataSources": [
        {
          "datasetId": 2570056,
          "sourceId": 4372070,
          "sourceType": "datasetVersion"
        }
      ],
      "dockerImageVersionId": 30673,
      "isGpuEnabled": false,
      "isInternetEnabled": true,
      "language": "python",
      "sourceType": "notebook"
    },
    "kernelspec": {
      "display_name": "Python 3",
      "language": "python",
      "name": "python3"
    },
    "language_info": {
      "codemirror_mode": {
        "name": "ipython",
        "version": 3
      },
      "file_extension": ".py",
      "mimetype": "text/x-python",
      "name": "python",
      "nbconvert_exporter": "python",
      "pygments_lexer": "ipython3",
      "version": "3.10.13"
    },
    "papermill": {
      "default_parameters": {},
      "duration": 166.085353,
      "end_time": "2024-03-26T17:04:03.950517",
      "environment_variables": {},
      "exception": null,
      "input_path": "__notebook__.ipynb",
      "output_path": "__notebook__.ipynb",
      "parameters": {},
      "start_time": "2024-03-26T17:01:17.865164",
      "version": "2.5.0"
    },
    "colab": {
      "provenance": [],
      "toc_visible": true
    }
  },
  "nbformat": 4,
  "nbformat_minor": 5
}